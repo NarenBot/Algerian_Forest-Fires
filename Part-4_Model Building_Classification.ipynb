{
 "cells": [
  {
   "cell_type": "code",
   "execution_count": 1,
   "id": "0b28db05",
   "metadata": {},
   "outputs": [],
   "source": [
    "import pandas as pd\n",
    "import numpy as np\n",
    "import matplotlib.pyplot as plt\n",
    "%matplotlib inline\n",
    "import seaborn as sns\n",
    "\n",
    "import warnings\n",
    "warnings.filterwarnings('ignore')"
   ]
  },
  {
   "cell_type": "code",
   "execution_count": 2,
   "id": "ef17efd0",
   "metadata": {},
   "outputs": [],
   "source": [
    "data = pd.read_csv('Datasets/Data_RemoveOutliers')"
   ]
  },
  {
   "cell_type": "code",
   "execution_count": 3,
   "id": "cdf18fee",
   "metadata": {},
   "outputs": [
    {
     "data": {
      "text/html": [
       "<div>\n",
       "<style scoped>\n",
       "    .dataframe tbody tr th:only-of-type {\n",
       "        vertical-align: middle;\n",
       "    }\n",
       "\n",
       "    .dataframe tbody tr th {\n",
       "        vertical-align: top;\n",
       "    }\n",
       "\n",
       "    .dataframe thead th {\n",
       "        text-align: right;\n",
       "    }\n",
       "</style>\n",
       "<table border=\"1\" class=\"dataframe\">\n",
       "  <thead>\n",
       "    <tr style=\"text-align: right;\">\n",
       "      <th></th>\n",
       "      <th>Temperature</th>\n",
       "      <th>RH</th>\n",
       "      <th>Ws</th>\n",
       "      <th>Rain</th>\n",
       "      <th>FFMC</th>\n",
       "      <th>DMC</th>\n",
       "      <th>DC</th>\n",
       "      <th>ISI</th>\n",
       "      <th>FWI</th>\n",
       "      <th>Classes</th>\n",
       "    </tr>\n",
       "  </thead>\n",
       "  <tbody>\n",
       "    <tr>\n",
       "      <th>0</th>\n",
       "      <td>29</td>\n",
       "      <td>57</td>\n",
       "      <td>18</td>\n",
       "      <td>0.00</td>\n",
       "      <td>65.7000</td>\n",
       "      <td>3.4</td>\n",
       "      <td>7.6</td>\n",
       "      <td>1.3</td>\n",
       "      <td>0.5</td>\n",
       "      <td>0</td>\n",
       "    </tr>\n",
       "    <tr>\n",
       "      <th>1</th>\n",
       "      <td>29</td>\n",
       "      <td>61</td>\n",
       "      <td>13</td>\n",
       "      <td>1.25</td>\n",
       "      <td>64.4000</td>\n",
       "      <td>4.1</td>\n",
       "      <td>7.6</td>\n",
       "      <td>1.0</td>\n",
       "      <td>0.4</td>\n",
       "      <td>0</td>\n",
       "    </tr>\n",
       "    <tr>\n",
       "      <th>2</th>\n",
       "      <td>26</td>\n",
       "      <td>82</td>\n",
       "      <td>22</td>\n",
       "      <td>1.25</td>\n",
       "      <td>47.7375</td>\n",
       "      <td>2.5</td>\n",
       "      <td>7.1</td>\n",
       "      <td>0.3</td>\n",
       "      <td>0.1</td>\n",
       "      <td>0</td>\n",
       "    </tr>\n",
       "    <tr>\n",
       "      <th>3</th>\n",
       "      <td>25</td>\n",
       "      <td>89</td>\n",
       "      <td>13</td>\n",
       "      <td>1.25</td>\n",
       "      <td>47.7375</td>\n",
       "      <td>1.3</td>\n",
       "      <td>6.9</td>\n",
       "      <td>0.0</td>\n",
       "      <td>0.0</td>\n",
       "      <td>0</td>\n",
       "    </tr>\n",
       "    <tr>\n",
       "      <th>4</th>\n",
       "      <td>27</td>\n",
       "      <td>77</td>\n",
       "      <td>16</td>\n",
       "      <td>0.00</td>\n",
       "      <td>64.8000</td>\n",
       "      <td>3.0</td>\n",
       "      <td>14.2</td>\n",
       "      <td>1.2</td>\n",
       "      <td>0.5</td>\n",
       "      <td>0</td>\n",
       "    </tr>\n",
       "  </tbody>\n",
       "</table>\n",
       "</div>"
      ],
      "text/plain": [
       "   Temperature  RH  Ws  Rain     FFMC  DMC    DC  ISI  FWI  Classes\n",
       "0           29  57  18  0.00  65.7000  3.4   7.6  1.3  0.5        0\n",
       "1           29  61  13  1.25  64.4000  4.1   7.6  1.0  0.4        0\n",
       "2           26  82  22  1.25  47.7375  2.5   7.1  0.3  0.1        0\n",
       "3           25  89  13  1.25  47.7375  1.3   6.9  0.0  0.0        0\n",
       "4           27  77  16  0.00  64.8000  3.0  14.2  1.2  0.5        0"
      ]
     },
     "execution_count": 3,
     "metadata": {},
     "output_type": "execute_result"
    }
   ],
   "source": [
    "data.head()\n",
    "# data.shape"
   ]
  },
  {
   "cell_type": "markdown",
   "id": "712fd355",
   "metadata": {},
   "source": [
    "#### Taking x and y values:"
   ]
  },
  {
   "cell_type": "code",
   "execution_count": 4,
   "id": "3a6cf0c3",
   "metadata": {},
   "outputs": [],
   "source": [
    "x = data.drop(['FWI', 'Classes'], axis=1)"
   ]
  },
  {
   "cell_type": "code",
   "execution_count": 5,
   "id": "fe42324f",
   "metadata": {},
   "outputs": [
    {
     "data": {
      "text/html": [
       "<div>\n",
       "<style scoped>\n",
       "    .dataframe tbody tr th:only-of-type {\n",
       "        vertical-align: middle;\n",
       "    }\n",
       "\n",
       "    .dataframe tbody tr th {\n",
       "        vertical-align: top;\n",
       "    }\n",
       "\n",
       "    .dataframe thead th {\n",
       "        text-align: right;\n",
       "    }\n",
       "</style>\n",
       "<table border=\"1\" class=\"dataframe\">\n",
       "  <thead>\n",
       "    <tr style=\"text-align: right;\">\n",
       "      <th></th>\n",
       "      <th>Temperature</th>\n",
       "      <th>RH</th>\n",
       "      <th>Ws</th>\n",
       "      <th>Rain</th>\n",
       "      <th>FFMC</th>\n",
       "      <th>DMC</th>\n",
       "      <th>DC</th>\n",
       "      <th>ISI</th>\n",
       "    </tr>\n",
       "  </thead>\n",
       "  <tbody>\n",
       "    <tr>\n",
       "      <th>0</th>\n",
       "      <td>29</td>\n",
       "      <td>57</td>\n",
       "      <td>18</td>\n",
       "      <td>0.00</td>\n",
       "      <td>65.7000</td>\n",
       "      <td>3.4</td>\n",
       "      <td>7.6</td>\n",
       "      <td>1.3</td>\n",
       "    </tr>\n",
       "    <tr>\n",
       "      <th>1</th>\n",
       "      <td>29</td>\n",
       "      <td>61</td>\n",
       "      <td>13</td>\n",
       "      <td>1.25</td>\n",
       "      <td>64.4000</td>\n",
       "      <td>4.1</td>\n",
       "      <td>7.6</td>\n",
       "      <td>1.0</td>\n",
       "    </tr>\n",
       "    <tr>\n",
       "      <th>2</th>\n",
       "      <td>26</td>\n",
       "      <td>82</td>\n",
       "      <td>22</td>\n",
       "      <td>1.25</td>\n",
       "      <td>47.7375</td>\n",
       "      <td>2.5</td>\n",
       "      <td>7.1</td>\n",
       "      <td>0.3</td>\n",
       "    </tr>\n",
       "    <tr>\n",
       "      <th>3</th>\n",
       "      <td>25</td>\n",
       "      <td>89</td>\n",
       "      <td>13</td>\n",
       "      <td>1.25</td>\n",
       "      <td>47.7375</td>\n",
       "      <td>1.3</td>\n",
       "      <td>6.9</td>\n",
       "      <td>0.0</td>\n",
       "    </tr>\n",
       "    <tr>\n",
       "      <th>4</th>\n",
       "      <td>27</td>\n",
       "      <td>77</td>\n",
       "      <td>16</td>\n",
       "      <td>0.00</td>\n",
       "      <td>64.8000</td>\n",
       "      <td>3.0</td>\n",
       "      <td>14.2</td>\n",
       "      <td>1.2</td>\n",
       "    </tr>\n",
       "  </tbody>\n",
       "</table>\n",
       "</div>"
      ],
      "text/plain": [
       "   Temperature  RH  Ws  Rain     FFMC  DMC    DC  ISI\n",
       "0           29  57  18  0.00  65.7000  3.4   7.6  1.3\n",
       "1           29  61  13  1.25  64.4000  4.1   7.6  1.0\n",
       "2           26  82  22  1.25  47.7375  2.5   7.1  0.3\n",
       "3           25  89  13  1.25  47.7375  1.3   6.9  0.0\n",
       "4           27  77  16  0.00  64.8000  3.0  14.2  1.2"
      ]
     },
     "execution_count": 5,
     "metadata": {},
     "output_type": "execute_result"
    }
   ],
   "source": [
    "x.head()"
   ]
  },
  {
   "cell_type": "code",
   "execution_count": 6,
   "id": "95150e20",
   "metadata": {},
   "outputs": [],
   "source": [
    "y = data['Classes']"
   ]
  },
  {
   "cell_type": "markdown",
   "id": "f4307b81",
   "metadata": {},
   "source": [
    "#### Train-Test split():"
   ]
  },
  {
   "cell_type": "code",
   "execution_count": 7,
   "id": "ddcc2067",
   "metadata": {},
   "outputs": [],
   "source": [
    "from sklearn.model_selection import train_test_split\n",
    "x_train, x_test, y_train, y_test = train_test_split(x, y, test_size=.25, random_state=30)"
   ]
  },
  {
   "cell_type": "code",
   "execution_count": 8,
   "id": "5861536a",
   "metadata": {},
   "outputs": [
    {
     "data": {
      "text/plain": [
       "(183, 8)"
      ]
     },
     "execution_count": 8,
     "metadata": {},
     "output_type": "execute_result"
    }
   ],
   "source": [
    "x_train.shape"
   ]
  },
  {
   "cell_type": "markdown",
   "id": "6da34deb",
   "metadata": {},
   "source": [
    "#### Feature Scaling:"
   ]
  },
  {
   "cell_type": "code",
   "execution_count": 9,
   "id": "5e2c491a",
   "metadata": {},
   "outputs": [],
   "source": [
    "from sklearn.preprocessing import StandardScaler\n",
    "scaler = StandardScaler()"
   ]
  },
  {
   "cell_type": "code",
   "execution_count": 10,
   "id": "c444ca4c",
   "metadata": {},
   "outputs": [],
   "source": [
    "x_train = scaler.fit_transform(x_train)"
   ]
  },
  {
   "cell_type": "code",
   "execution_count": 11,
   "id": "09c73070",
   "metadata": {},
   "outputs": [],
   "source": [
    "x_test = scaler.transform(x_test)"
   ]
  },
  {
   "cell_type": "code",
   "execution_count": null,
   "id": "d9754ad5",
   "metadata": {},
   "outputs": [],
   "source": []
  },
  {
   "cell_type": "markdown",
   "id": "28504905",
   "metadata": {},
   "source": [
    "### Classification Models:"
   ]
  },
  {
   "cell_type": "code",
   "execution_count": 12,
   "id": "b2404ce4",
   "metadata": {},
   "outputs": [],
   "source": [
    "from sklearn.metrics import accuracy_score, confusion_matrix, classification_report"
   ]
  },
  {
   "cell_type": "markdown",
   "id": "b86c2ec3",
   "metadata": {},
   "source": [
    "#### Logistic Regression:"
   ]
  },
  {
   "cell_type": "code",
   "execution_count": 13,
   "id": "0c94f5e9",
   "metadata": {},
   "outputs": [
    {
     "name": "stdout",
     "output_type": "stream",
     "text": [
      "Accuracy:  98.36065573770492\n",
      "Confusion Matrix: \n",
      " [[25  0]\n",
      " [ 1 35]]\n",
      "Classification Report: \n",
      "               precision    recall  f1-score   support\n",
      "\n",
      "           0       0.96      1.00      0.98        25\n",
      "           1       1.00      0.97      0.99        36\n",
      "\n",
      "    accuracy                           0.98        61\n",
      "   macro avg       0.98      0.99      0.98        61\n",
      "weighted avg       0.98      0.98      0.98        61\n",
      "\n"
     ]
    }
   ],
   "source": [
    "from sklearn.linear_model import LogisticRegression\n",
    "log_model = LogisticRegression()\n",
    "log_model.fit(x_train, y_train)\n",
    "log_pred = log_model.predict(x_test)\n",
    "\n",
    "print(\"Accuracy: \", accuracy_score(y_test, log_pred)*100)\n",
    "print(\"Confusion Matrix: \\n\", confusion_matrix(y_test, log_pred))\n",
    "print(\"Classification Report: \\n\", classification_report(y_test, log_pred))"
   ]
  },
  {
   "cell_type": "markdown",
   "id": "678de28a",
   "metadata": {},
   "source": [
    "#### SVM Classifier:"
   ]
  },
  {
   "cell_type": "code",
   "execution_count": 14,
   "id": "151e3f05",
   "metadata": {},
   "outputs": [
    {
     "name": "stdout",
     "output_type": "stream",
     "text": [
      "Accuracy:  93.44262295081968\n",
      "Confusion Matrix: \n",
      " [[23  2]\n",
      " [ 2 34]]\n",
      "Classification Report: \n",
      "               precision    recall  f1-score   support\n",
      "\n",
      "           0       0.92      0.92      0.92        25\n",
      "           1       0.94      0.94      0.94        36\n",
      "\n",
      "    accuracy                           0.93        61\n",
      "   macro avg       0.93      0.93      0.93        61\n",
      "weighted avg       0.93      0.93      0.93        61\n",
      "\n"
     ]
    }
   ],
   "source": [
    "from sklearn.svm import SVC\n",
    "svm_model = SVC()\n",
    "svm_model.fit(x_train, y_train)\n",
    "svm_pred = svm_model.predict(x_test)\n",
    "\n",
    "print(\"Accuracy: \", accuracy_score(y_test, svm_pred)*100)\n",
    "print(\"Confusion Matrix: \\n\", confusion_matrix(y_test, svm_pred))\n",
    "print(\"Classification Report: \\n\", classification_report(y_test, svm_pred))"
   ]
  },
  {
   "cell_type": "markdown",
   "id": "aaf72885",
   "metadata": {},
   "source": [
    "#### Naive-Bayes Classifier:"
   ]
  },
  {
   "cell_type": "code",
   "execution_count": 15,
   "id": "b27f1951",
   "metadata": {},
   "outputs": [
    {
     "name": "stdout",
     "output_type": "stream",
     "text": [
      "Accuracy:  93.44262295081968\n",
      "Confusion Matrix: \n",
      " [[23  2]\n",
      " [ 2 34]]\n",
      "Classification Report: \n",
      "               precision    recall  f1-score   support\n",
      "\n",
      "           0       0.92      0.92      0.92        25\n",
      "           1       0.94      0.94      0.94        36\n",
      "\n",
      "    accuracy                           0.93        61\n",
      "   macro avg       0.93      0.93      0.93        61\n",
      "weighted avg       0.93      0.93      0.93        61\n",
      "\n"
     ]
    }
   ],
   "source": [
    "from sklearn.naive_bayes import GaussianNB\n",
    "NB_model = GaussianNB()\n",
    "NB_model.fit(x_train, y_train)\n",
    "NB_pred = NB_model.predict(x_test)\n",
    "\n",
    "print(\"Accuracy: \", accuracy_score(y_test, NB_pred)*100)\n",
    "print(\"Confusion Matrix: \\n\", confusion_matrix(y_test, NB_pred))\n",
    "print(\"Classification Report: \\n\", classification_report(y_test, NB_pred))"
   ]
  },
  {
   "cell_type": "markdown",
   "id": "8771ee2c",
   "metadata": {},
   "source": [
    "#### Decision Tree:"
   ]
  },
  {
   "cell_type": "code",
   "execution_count": 16,
   "id": "8cb9a22e",
   "metadata": {},
   "outputs": [
    {
     "name": "stdout",
     "output_type": "stream",
     "text": [
      "Accuracy:  98.36065573770492\n",
      "Confusion Matrix: \n",
      " [[24  1]\n",
      " [ 0 36]]\n",
      "Classification Report: \n",
      "               precision    recall  f1-score   support\n",
      "\n",
      "           0       1.00      0.96      0.98        25\n",
      "           1       0.97      1.00      0.99        36\n",
      "\n",
      "    accuracy                           0.98        61\n",
      "   macro avg       0.99      0.98      0.98        61\n",
      "weighted avg       0.98      0.98      0.98        61\n",
      "\n"
     ]
    }
   ],
   "source": [
    "from sklearn.tree import DecisionTreeClassifier\n",
    "tree_model = DecisionTreeClassifier()\n",
    "tree_model.fit(x_train, y_train)\n",
    "tree_pred = tree_model.predict(x_test)\n",
    "\n",
    "print(\"Accuracy: \", accuracy_score(y_test, tree_pred)*100)\n",
    "print(\"Confusion Matrix: \\n\", confusion_matrix(y_test, tree_pred))\n",
    "print(\"Classification Report: \\n\", classification_report(y_test, tree_pred))"
   ]
  },
  {
   "cell_type": "markdown",
   "id": "88fcf2f2",
   "metadata": {},
   "source": [
    "#### Random Forest:"
   ]
  },
  {
   "cell_type": "code",
   "execution_count": 17,
   "id": "4350b5dd",
   "metadata": {},
   "outputs": [
    {
     "name": "stdout",
     "output_type": "stream",
     "text": [
      "Accuracy:  96.72131147540983\n",
      "Confusion Matrix: \n",
      " [[25  0]\n",
      " [ 2 34]]\n",
      "Classification Report: \n",
      "               precision    recall  f1-score   support\n",
      "\n",
      "           0       0.93      1.00      0.96        25\n",
      "           1       1.00      0.94      0.97        36\n",
      "\n",
      "    accuracy                           0.97        61\n",
      "   macro avg       0.96      0.97      0.97        61\n",
      "weighted avg       0.97      0.97      0.97        61\n",
      "\n"
     ]
    }
   ],
   "source": [
    "from sklearn.ensemble import RandomForestClassifier\n",
    "rf_model = RandomForestClassifier()\n",
    "rf_model.fit(x_train, y_train)\n",
    "rf_pred = rf_model.predict(x_test)\n",
    "\n",
    "print(\"Accuracy: \", accuracy_score(y_test, rf_pred)*100)\n",
    "print(\"Confusion Matrix: \\n\", confusion_matrix(y_test, rf_pred))\n",
    "print(\"Classification Report: \\n\", classification_report(y_test, rf_pred))"
   ]
  },
  {
   "cell_type": "markdown",
   "id": "1c8ea392",
   "metadata": {},
   "source": [
    "#### Xg Boost:"
   ]
  },
  {
   "cell_type": "code",
   "execution_count": 18,
   "id": "2bf4397a",
   "metadata": {},
   "outputs": [],
   "source": [
    "import xgboost\n",
    "from sklearn.metrics import ConfusionMatrixDisplay"
   ]
  },
  {
   "cell_type": "code",
   "execution_count": 19,
   "id": "268ef524",
   "metadata": {},
   "outputs": [
    {
     "name": "stdout",
     "output_type": "stream",
     "text": [
      "Accuracy:  98.36065573770492\n",
      "Confusion Matrix: \n",
      " [[25  0]\n",
      " [ 1 35]]\n",
      "Classification Report: \n",
      "               precision    recall  f1-score   support\n",
      "\n",
      "           0       0.96      1.00      0.98        25\n",
      "           1       1.00      0.97      0.99        36\n",
      "\n",
      "    accuracy                           0.98        61\n",
      "   macro avg       0.98      0.99      0.98        61\n",
      "weighted avg       0.98      0.98      0.98        61\n",
      "\n"
     ]
    }
   ],
   "source": [
    "from xgboost import XGBClassifier\n",
    "boost_model = XGBClassifier()\n",
    "boost_model.fit(x_train, y_train)\n",
    "boost_pred = boost_model.predict(x_test)\n",
    "\n",
    "print(\"Accuracy: \", accuracy_score(y_test, boost_pred)*100)\n",
    "print(\"Confusion Matrix: \\n\", confusion_matrix(y_test, boost_pred))\n",
    "print(\"Classification Report: \\n\", classification_report(y_test, boost_pred))"
   ]
  },
  {
   "cell_type": "code",
   "execution_count": 20,
   "id": "bd46ae75",
   "metadata": {},
   "outputs": [],
   "source": [
    "# ConfusionMatrixDisplay.from_estimator(boost_model, x_test, y_test)"
   ]
  },
  {
   "cell_type": "markdown",
   "id": "8f38f224",
   "metadata": {},
   "source": [
    "#### Results Summary\n",
    "\n",
    "| Models     | Accuracy score  |\n",
    "| ----------- | ----------- |\n",
    "| XGboost classifier     | 98.36 % |\n",
    "| Decision Tree Classifier  | 98.36 % |\n",
    "| Random Forest Classifier  | 96.72 % |\n",
    "| Logistic Regression | 95.08 % |\n",
    "| Naive Bayes  | 95.08 % |\n",
    "| SVM Classifier  | 93.44 %|\n"
   ]
  },
  {
   "cell_type": "markdown",
   "id": "b6385885",
   "metadata": {},
   "source": [
    "### Hyper-Parameter Tuning:"
   ]
  },
  {
   "cell_type": "code",
   "execution_count": 21,
   "id": "998745fa",
   "metadata": {},
   "outputs": [],
   "source": [
    "from sklearn.model_selection import GridSearchCV"
   ]
  },
  {
   "cell_type": "code",
   "execution_count": 22,
   "id": "7b0a4b43",
   "metadata": {},
   "outputs": [],
   "source": [
    "# params={\n",
    "#  \"learning_rate\"    : (np.linspace(0,10, 50)) ,\n",
    "#  \"max_depth\"        : (np.linspace(1,50, 25,dtype=int)),\n",
    "#  \"min_child_weight\" : [1, 3, 5, 7],\n",
    "#  \"gamma\"            : [0.0, 0.1, 0.2 , 0.3, 0.4],\n",
    "#  \"colsample_bytree\" : [0.3, 0.4, 0.5 , 0.7]}\n",
    "\n",
    "# boost_Grid = GridSearchCV(boost_model, params, cv = 2,n_jobs = -1)\n",
    "# boost_Grid.fit(x_train, y_train)"
   ]
  },
  {
   "cell_type": "code",
   "execution_count": 23,
   "id": "01e3df17",
   "metadata": {},
   "outputs": [],
   "source": [
    "from sklearn.model_selection import StratifiedKFold, cross_val_score\n",
    "skfold = StratifiedKFold(n_splits= 10,shuffle= True, random_state= 42)"
   ]
  },
  {
   "cell_type": "code",
   "execution_count": 24,
   "id": "c36addaa",
   "metadata": {},
   "outputs": [
    {
     "name": "stdout",
     "output_type": "stream",
     "text": [
      "Tuned XGB = 98.7833\n"
     ]
    }
   ],
   "source": [
    "cv_xgb= cross_val_score(boost_model, x,y, cv=skfold, scoring='accuracy').mean()\n",
    "print('Tuned XGB = {:.4f}'.format(cv_xgb*100))"
   ]
  },
  {
   "cell_type": "code",
   "execution_count": 25,
   "id": "0ad968d3",
   "metadata": {},
   "outputs": [],
   "source": [
    "# params = {\n",
    "#     \"n_estimators\" : [90,100,115,130],\n",
    "#     'criterion': ['gini', 'entropy'],\n",
    "#     'max_depth' : range(2,20,1),\n",
    "#     'min_samples_leaf' : range(1,10,1),\n",
    "#     'min_samples_split': range(2,10,1),\n",
    "#     'max_features' : ['auto','log2']\n",
    "# }\n",
    "# rf_grid = GridSearchCV(rf_model, params, cv = 5, n_jobs = -1)\n",
    "# rf_grid.fit(x_train, y_train).best_estimator_"
   ]
  },
  {
   "cell_type": "markdown",
   "id": "f6d350e9",
   "metadata": {},
   "source": [
    "### Exporting Pickel File;"
   ]
  },
  {
   "cell_type": "code",
   "execution_count": 26,
   "id": "3f9b7266",
   "metadata": {},
   "outputs": [],
   "source": [
    "import pickle\n",
    "pickle.dump(boost_model, open('Classification.pkl', 'wb'))"
   ]
  },
  {
   "cell_type": "code",
   "execution_count": null,
   "id": "58f4f240",
   "metadata": {},
   "outputs": [],
   "source": []
  },
  {
   "cell_type": "code",
   "execution_count": null,
   "id": "81819983",
   "metadata": {},
   "outputs": [],
   "source": []
  },
  {
   "cell_type": "markdown",
   "id": "dc567814",
   "metadata": {},
   "source": [
    "#### Testing:"
   ]
  },
  {
   "cell_type": "code",
   "execution_count": 67,
   "id": "7b3aaa75",
   "metadata": {},
   "outputs": [
    {
     "data": {
      "text/html": [
       "<div>\n",
       "<style scoped>\n",
       "    .dataframe tbody tr th:only-of-type {\n",
       "        vertical-align: middle;\n",
       "    }\n",
       "\n",
       "    .dataframe tbody tr th {\n",
       "        vertical-align: top;\n",
       "    }\n",
       "\n",
       "    .dataframe thead th {\n",
       "        text-align: right;\n",
       "    }\n",
       "</style>\n",
       "<table border=\"1\" class=\"dataframe\">\n",
       "  <thead>\n",
       "    <tr style=\"text-align: right;\">\n",
       "      <th></th>\n",
       "      <th>Temperature</th>\n",
       "      <th>RH</th>\n",
       "      <th>Ws</th>\n",
       "      <th>Rain</th>\n",
       "      <th>FFMC</th>\n",
       "      <th>DMC</th>\n",
       "      <th>DC</th>\n",
       "      <th>ISI</th>\n",
       "      <th>FWI</th>\n",
       "      <th>Classes</th>\n",
       "    </tr>\n",
       "  </thead>\n",
       "  <tbody>\n",
       "    <tr>\n",
       "      <th>0</th>\n",
       "      <td>29</td>\n",
       "      <td>57</td>\n",
       "      <td>18</td>\n",
       "      <td>0.00</td>\n",
       "      <td>65.7000</td>\n",
       "      <td>3.4</td>\n",
       "      <td>7.6</td>\n",
       "      <td>1.3</td>\n",
       "      <td>0.5</td>\n",
       "      <td>0</td>\n",
       "    </tr>\n",
       "    <tr>\n",
       "      <th>1</th>\n",
       "      <td>29</td>\n",
       "      <td>61</td>\n",
       "      <td>13</td>\n",
       "      <td>1.25</td>\n",
       "      <td>64.4000</td>\n",
       "      <td>4.1</td>\n",
       "      <td>7.6</td>\n",
       "      <td>1.0</td>\n",
       "      <td>0.4</td>\n",
       "      <td>0</td>\n",
       "    </tr>\n",
       "    <tr>\n",
       "      <th>2</th>\n",
       "      <td>26</td>\n",
       "      <td>82</td>\n",
       "      <td>22</td>\n",
       "      <td>1.25</td>\n",
       "      <td>47.7375</td>\n",
       "      <td>2.5</td>\n",
       "      <td>7.1</td>\n",
       "      <td>0.3</td>\n",
       "      <td>0.1</td>\n",
       "      <td>0</td>\n",
       "    </tr>\n",
       "    <tr>\n",
       "      <th>3</th>\n",
       "      <td>25</td>\n",
       "      <td>89</td>\n",
       "      <td>13</td>\n",
       "      <td>1.25</td>\n",
       "      <td>47.7375</td>\n",
       "      <td>1.3</td>\n",
       "      <td>6.9</td>\n",
       "      <td>0.0</td>\n",
       "      <td>0.0</td>\n",
       "      <td>0</td>\n",
       "    </tr>\n",
       "    <tr>\n",
       "      <th>4</th>\n",
       "      <td>27</td>\n",
       "      <td>77</td>\n",
       "      <td>16</td>\n",
       "      <td>0.00</td>\n",
       "      <td>64.8000</td>\n",
       "      <td>3.0</td>\n",
       "      <td>14.2</td>\n",
       "      <td>1.2</td>\n",
       "      <td>0.5</td>\n",
       "      <td>0</td>\n",
       "    </tr>\n",
       "  </tbody>\n",
       "</table>\n",
       "</div>"
      ],
      "text/plain": [
       "   Temperature  RH  Ws  Rain     FFMC  DMC    DC  ISI  FWI  Classes\n",
       "0           29  57  18  0.00  65.7000  3.4   7.6  1.3  0.5        0\n",
       "1           29  61  13  1.25  64.4000  4.1   7.6  1.0  0.4        0\n",
       "2           26  82  22  1.25  47.7375  2.5   7.1  0.3  0.1        0\n",
       "3           25  89  13  1.25  47.7375  1.3   6.9  0.0  0.0        0\n",
       "4           27  77  16  0.00  64.8000  3.0  14.2  1.2  0.5        0"
      ]
     },
     "execution_count": 67,
     "metadata": {},
     "output_type": "execute_result"
    }
   ],
   "source": [
    "data.head()"
   ]
  },
  {
   "cell_type": "code",
   "execution_count": 68,
   "id": "10b8e185",
   "metadata": {},
   "outputs": [
    {
     "data": {
      "text/html": [
       "<div>\n",
       "<style scoped>\n",
       "    .dataframe tbody tr th:only-of-type {\n",
       "        vertical-align: middle;\n",
       "    }\n",
       "\n",
       "    .dataframe tbody tr th {\n",
       "        vertical-align: top;\n",
       "    }\n",
       "\n",
       "    .dataframe thead th {\n",
       "        text-align: right;\n",
       "    }\n",
       "</style>\n",
       "<table border=\"1\" class=\"dataframe\">\n",
       "  <thead>\n",
       "    <tr style=\"text-align: right;\">\n",
       "      <th></th>\n",
       "      <th>Temperature</th>\n",
       "      <th>RH</th>\n",
       "      <th>Ws</th>\n",
       "      <th>Rain</th>\n",
       "      <th>FFMC</th>\n",
       "      <th>DMC</th>\n",
       "      <th>DC</th>\n",
       "      <th>ISI</th>\n",
       "    </tr>\n",
       "  </thead>\n",
       "  <tbody>\n",
       "    <tr>\n",
       "      <th>0</th>\n",
       "      <td>29</td>\n",
       "      <td>57</td>\n",
       "      <td>18</td>\n",
       "      <td>0.00</td>\n",
       "      <td>65.7000</td>\n",
       "      <td>3.4</td>\n",
       "      <td>7.6</td>\n",
       "      <td>1.3</td>\n",
       "    </tr>\n",
       "    <tr>\n",
       "      <th>1</th>\n",
       "      <td>29</td>\n",
       "      <td>61</td>\n",
       "      <td>13</td>\n",
       "      <td>1.25</td>\n",
       "      <td>64.4000</td>\n",
       "      <td>4.1</td>\n",
       "      <td>7.6</td>\n",
       "      <td>1.0</td>\n",
       "    </tr>\n",
       "    <tr>\n",
       "      <th>2</th>\n",
       "      <td>26</td>\n",
       "      <td>82</td>\n",
       "      <td>22</td>\n",
       "      <td>1.25</td>\n",
       "      <td>47.7375</td>\n",
       "      <td>2.5</td>\n",
       "      <td>7.1</td>\n",
       "      <td>0.3</td>\n",
       "    </tr>\n",
       "    <tr>\n",
       "      <th>3</th>\n",
       "      <td>25</td>\n",
       "      <td>89</td>\n",
       "      <td>13</td>\n",
       "      <td>1.25</td>\n",
       "      <td>47.7375</td>\n",
       "      <td>1.3</td>\n",
       "      <td>6.9</td>\n",
       "      <td>0.0</td>\n",
       "    </tr>\n",
       "    <tr>\n",
       "      <th>4</th>\n",
       "      <td>27</td>\n",
       "      <td>77</td>\n",
       "      <td>16</td>\n",
       "      <td>0.00</td>\n",
       "      <td>64.8000</td>\n",
       "      <td>3.0</td>\n",
       "      <td>14.2</td>\n",
       "      <td>1.2</td>\n",
       "    </tr>\n",
       "  </tbody>\n",
       "</table>\n",
       "</div>"
      ],
      "text/plain": [
       "   Temperature  RH  Ws  Rain     FFMC  DMC    DC  ISI\n",
       "0           29  57  18  0.00  65.7000  3.4   7.6  1.3\n",
       "1           29  61  13  1.25  64.4000  4.1   7.6  1.0\n",
       "2           26  82  22  1.25  47.7375  2.5   7.1  0.3\n",
       "3           25  89  13  1.25  47.7375  1.3   6.9  0.0\n",
       "4           27  77  16  0.00  64.8000  3.0  14.2  1.2"
      ]
     },
     "execution_count": 68,
     "metadata": {},
     "output_type": "execute_result"
    }
   ],
   "source": [
    "x.head()"
   ]
  },
  {
   "cell_type": "code",
   "execution_count": 69,
   "id": "730574e7",
   "metadata": {},
   "outputs": [],
   "source": [
    "reg = pickle.load(open('Regression.pkl', 'rb'))\n",
    "clas = pickle.load(open('Classification.pkl', 'rb'))\n",
    "scale = pickle.load(open('Scaler_Transformed.pkl', 'rb'))"
   ]
  },
  {
   "cell_type": "code",
   "execution_count": 70,
   "id": "603e538a",
   "metadata": {},
   "outputs": [
    {
     "data": {
      "text/plain": [
       "[29.0, 61.0, 13.0, 1.25, 64.4, 4.1, 7.6, 1.0]"
      ]
     },
     "execution_count": 70,
     "metadata": {},
     "output_type": "execute_result"
    }
   ],
   "source": [
    "ls = list(x.iloc[1,:])\n",
    "ls"
   ]
  },
  {
   "cell_type": "code",
   "execution_count": 71,
   "id": "23e8bae0",
   "metadata": {},
   "outputs": [
    {
     "data": {
      "text/plain": [
       "array([[29.  , 61.  , 13.  ,  1.25, 64.4 ,  4.1 ,  7.6 ,  1.  ]])"
      ]
     },
     "execution_count": 71,
     "metadata": {},
     "output_type": "execute_result"
    }
   ],
   "source": [
    "values = np.array(ls).reshape(1,-1)\n",
    "values"
   ]
  },
  {
   "cell_type": "code",
   "execution_count": 72,
   "id": "b6d473a1",
   "metadata": {},
   "outputs": [],
   "source": [
    "values = scale.transform(values)"
   ]
  },
  {
   "cell_type": "code",
   "execution_count": 73,
   "id": "3c8a8676",
   "metadata": {},
   "outputs": [
    {
     "data": {
      "text/plain": [
       "array([0.4])"
      ]
     },
     "execution_count": 73,
     "metadata": {},
     "output_type": "execute_result"
    }
   ],
   "source": [
    "reg.predict(values)"
   ]
  },
  {
   "cell_type": "code",
   "execution_count": null,
   "id": "f5a88496",
   "metadata": {},
   "outputs": [],
   "source": []
  },
  {
   "cell_type": "code",
   "execution_count": null,
   "id": "47761a1a",
   "metadata": {},
   "outputs": [],
   "source": []
  },
  {
   "cell_type": "code",
   "execution_count": null,
   "id": "dc1574d9",
   "metadata": {},
   "outputs": [],
   "source": []
  }
 ],
 "metadata": {
  "kernelspec": {
   "display_name": "Python 3",
   "language": "python",
   "name": "python3"
  },
  "language_info": {
   "codemirror_mode": {
    "name": "ipython",
    "version": 3
   },
   "file_extension": ".py",
   "mimetype": "text/x-python",
   "name": "python",
   "nbconvert_exporter": "python",
   "pygments_lexer": "ipython3",
   "version": "3.8.8"
  }
 },
 "nbformat": 4,
 "nbformat_minor": 5
}
