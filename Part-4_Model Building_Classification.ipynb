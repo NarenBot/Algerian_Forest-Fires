{
 "cells": [
  {
   "cell_type": "code",
   "execution_count": 90,
   "id": "0b28db05",
   "metadata": {},
   "outputs": [],
   "source": [
    "import pandas as pd\n",
    "import numpy as np\n",
    "import matplotlib.pyplot as plt\n",
    "%matplotlib inline\n",
    "import seaborn as sns\n",
    "\n",
    "import warnings\n",
    "warnings.filterwarnings('ignore')"
   ]
  },
  {
   "cell_type": "code",
   "execution_count": 91,
   "id": "ef17efd0",
   "metadata": {},
   "outputs": [],
   "source": [
    "data = pd.read_csv('Datasets/SkewOutliersMulticorr')"
   ]
  },
  {
   "cell_type": "code",
   "execution_count": 92,
   "id": "cdf18fee",
   "metadata": {},
   "outputs": [
    {
     "data": {
      "text/html": [
       "<div>\n",
       "<style scoped>\n",
       "    .dataframe tbody tr th:only-of-type {\n",
       "        vertical-align: middle;\n",
       "    }\n",
       "\n",
       "    .dataframe tbody tr th {\n",
       "        vertical-align: top;\n",
       "    }\n",
       "\n",
       "    .dataframe thead th {\n",
       "        text-align: right;\n",
       "    }\n",
       "</style>\n",
       "<table border=\"1\" class=\"dataframe\">\n",
       "  <thead>\n",
       "    <tr style=\"text-align: right;\">\n",
       "      <th></th>\n",
       "      <th>Temperature</th>\n",
       "      <th>RH</th>\n",
       "      <th>Ws</th>\n",
       "      <th>Rain</th>\n",
       "      <th>FFMC</th>\n",
       "      <th>DMC</th>\n",
       "      <th>DC</th>\n",
       "      <th>ISI</th>\n",
       "      <th>FWI</th>\n",
       "      <th>Classes</th>\n",
       "    </tr>\n",
       "  </thead>\n",
       "  <tbody>\n",
       "    <tr>\n",
       "      <th>0</th>\n",
       "      <td>29.0</td>\n",
       "      <td>57</td>\n",
       "      <td>18</td>\n",
       "      <td>0.00</td>\n",
       "      <td>65.7000</td>\n",
       "      <td>3.4</td>\n",
       "      <td>7.6</td>\n",
       "      <td>1.3</td>\n",
       "      <td>0.5</td>\n",
       "      <td>0</td>\n",
       "    </tr>\n",
       "    <tr>\n",
       "      <th>1</th>\n",
       "      <td>29.0</td>\n",
       "      <td>61</td>\n",
       "      <td>13</td>\n",
       "      <td>1.25</td>\n",
       "      <td>64.4000</td>\n",
       "      <td>4.1</td>\n",
       "      <td>7.6</td>\n",
       "      <td>1.0</td>\n",
       "      <td>0.4</td>\n",
       "      <td>0</td>\n",
       "    </tr>\n",
       "    <tr>\n",
       "      <th>2</th>\n",
       "      <td>26.0</td>\n",
       "      <td>82</td>\n",
       "      <td>22</td>\n",
       "      <td>1.25</td>\n",
       "      <td>47.7375</td>\n",
       "      <td>2.5</td>\n",
       "      <td>7.1</td>\n",
       "      <td>0.3</td>\n",
       "      <td>0.1</td>\n",
       "      <td>0</td>\n",
       "    </tr>\n",
       "    <tr>\n",
       "      <th>3</th>\n",
       "      <td>25.0</td>\n",
       "      <td>89</td>\n",
       "      <td>13</td>\n",
       "      <td>1.25</td>\n",
       "      <td>47.7375</td>\n",
       "      <td>1.3</td>\n",
       "      <td>6.9</td>\n",
       "      <td>0.0</td>\n",
       "      <td>0.0</td>\n",
       "      <td>0</td>\n",
       "    </tr>\n",
       "    <tr>\n",
       "      <th>4</th>\n",
       "      <td>27.0</td>\n",
       "      <td>77</td>\n",
       "      <td>16</td>\n",
       "      <td>0.00</td>\n",
       "      <td>64.8000</td>\n",
       "      <td>3.0</td>\n",
       "      <td>14.2</td>\n",
       "      <td>1.2</td>\n",
       "      <td>0.5</td>\n",
       "      <td>0</td>\n",
       "    </tr>\n",
       "  </tbody>\n",
       "</table>\n",
       "</div>"
      ],
      "text/plain": [
       "   Temperature  RH  Ws  Rain     FFMC  DMC    DC  ISI  FWI  Classes\n",
       "0         29.0  57  18  0.00  65.7000  3.4   7.6  1.3  0.5        0\n",
       "1         29.0  61  13  1.25  64.4000  4.1   7.6  1.0  0.4        0\n",
       "2         26.0  82  22  1.25  47.7375  2.5   7.1  0.3  0.1        0\n",
       "3         25.0  89  13  1.25  47.7375  1.3   6.9  0.0  0.0        0\n",
       "4         27.0  77  16  0.00  64.8000  3.0  14.2  1.2  0.5        0"
      ]
     },
     "execution_count": 92,
     "metadata": {},
     "output_type": "execute_result"
    }
   ],
   "source": [
    "data.head()\n",
    "# data.shape"
   ]
  },
  {
   "cell_type": "markdown",
   "id": "712fd355",
   "metadata": {},
   "source": [
    "#### Taking x and y values:"
   ]
  },
  {
   "cell_type": "code",
   "execution_count": 93,
   "id": "3a6cf0c3",
   "metadata": {},
   "outputs": [],
   "source": [
    "x = data.drop(['FWI','Classes'], axis=1)"
   ]
  },
  {
   "cell_type": "code",
   "execution_count": 94,
   "id": "fe42324f",
   "metadata": {},
   "outputs": [
    {
     "data": {
      "text/html": [
       "<div>\n",
       "<style scoped>\n",
       "    .dataframe tbody tr th:only-of-type {\n",
       "        vertical-align: middle;\n",
       "    }\n",
       "\n",
       "    .dataframe tbody tr th {\n",
       "        vertical-align: top;\n",
       "    }\n",
       "\n",
       "    .dataframe thead th {\n",
       "        text-align: right;\n",
       "    }\n",
       "</style>\n",
       "<table border=\"1\" class=\"dataframe\">\n",
       "  <thead>\n",
       "    <tr style=\"text-align: right;\">\n",
       "      <th></th>\n",
       "      <th>Temperature</th>\n",
       "      <th>RH</th>\n",
       "      <th>Ws</th>\n",
       "      <th>Rain</th>\n",
       "      <th>FFMC</th>\n",
       "      <th>DMC</th>\n",
       "      <th>DC</th>\n",
       "      <th>ISI</th>\n",
       "    </tr>\n",
       "  </thead>\n",
       "  <tbody>\n",
       "    <tr>\n",
       "      <th>0</th>\n",
       "      <td>29.0</td>\n",
       "      <td>57</td>\n",
       "      <td>18</td>\n",
       "      <td>0.00</td>\n",
       "      <td>65.7000</td>\n",
       "      <td>3.4</td>\n",
       "      <td>7.6</td>\n",
       "      <td>1.3</td>\n",
       "    </tr>\n",
       "    <tr>\n",
       "      <th>1</th>\n",
       "      <td>29.0</td>\n",
       "      <td>61</td>\n",
       "      <td>13</td>\n",
       "      <td>1.25</td>\n",
       "      <td>64.4000</td>\n",
       "      <td>4.1</td>\n",
       "      <td>7.6</td>\n",
       "      <td>1.0</td>\n",
       "    </tr>\n",
       "    <tr>\n",
       "      <th>2</th>\n",
       "      <td>26.0</td>\n",
       "      <td>82</td>\n",
       "      <td>22</td>\n",
       "      <td>1.25</td>\n",
       "      <td>47.7375</td>\n",
       "      <td>2.5</td>\n",
       "      <td>7.1</td>\n",
       "      <td>0.3</td>\n",
       "    </tr>\n",
       "    <tr>\n",
       "      <th>3</th>\n",
       "      <td>25.0</td>\n",
       "      <td>89</td>\n",
       "      <td>13</td>\n",
       "      <td>1.25</td>\n",
       "      <td>47.7375</td>\n",
       "      <td>1.3</td>\n",
       "      <td>6.9</td>\n",
       "      <td>0.0</td>\n",
       "    </tr>\n",
       "    <tr>\n",
       "      <th>4</th>\n",
       "      <td>27.0</td>\n",
       "      <td>77</td>\n",
       "      <td>16</td>\n",
       "      <td>0.00</td>\n",
       "      <td>64.8000</td>\n",
       "      <td>3.0</td>\n",
       "      <td>14.2</td>\n",
       "      <td>1.2</td>\n",
       "    </tr>\n",
       "  </tbody>\n",
       "</table>\n",
       "</div>"
      ],
      "text/plain": [
       "   Temperature  RH  Ws  Rain     FFMC  DMC    DC  ISI\n",
       "0         29.0  57  18  0.00  65.7000  3.4   7.6  1.3\n",
       "1         29.0  61  13  1.25  64.4000  4.1   7.6  1.0\n",
       "2         26.0  82  22  1.25  47.7375  2.5   7.1  0.3\n",
       "3         25.0  89  13  1.25  47.7375  1.3   6.9  0.0\n",
       "4         27.0  77  16  0.00  64.8000  3.0  14.2  1.2"
      ]
     },
     "execution_count": 94,
     "metadata": {},
     "output_type": "execute_result"
    }
   ],
   "source": [
    "x.head()"
   ]
  },
  {
   "cell_type": "code",
   "execution_count": 95,
   "id": "95150e20",
   "metadata": {},
   "outputs": [],
   "source": [
    "y = data['Classes']"
   ]
  },
  {
   "cell_type": "markdown",
   "id": "f4307b81",
   "metadata": {},
   "source": [
    "#### Train-Test split():"
   ]
  },
  {
   "cell_type": "code",
   "execution_count": 96,
   "id": "ddcc2067",
   "metadata": {},
   "outputs": [],
   "source": [
    "from sklearn.model_selection import train_test_split\n",
    "x_train, x_test, y_train, y_test = train_test_split(x, y, test_size=.3, random_state=30)"
   ]
  },
  {
   "cell_type": "code",
   "execution_count": 97,
   "id": "5861536a",
   "metadata": {},
   "outputs": [
    {
     "data": {
      "text/plain": [
       "(170, 8)"
      ]
     },
     "execution_count": 97,
     "metadata": {},
     "output_type": "execute_result"
    }
   ],
   "source": [
    "x_train.shape"
   ]
  },
  {
   "cell_type": "markdown",
   "id": "6da34deb",
   "metadata": {},
   "source": [
    "#### Feature Scaling:"
   ]
  },
  {
   "cell_type": "code",
   "execution_count": 98,
   "id": "5e2c491a",
   "metadata": {},
   "outputs": [],
   "source": [
    "from sklearn.preprocessing import StandardScaler\n",
    "scaler = StandardScaler()"
   ]
  },
  {
   "cell_type": "code",
   "execution_count": 99,
   "id": "c444ca4c",
   "metadata": {},
   "outputs": [],
   "source": [
    "x_train = scaler.fit_transform(x_train)"
   ]
  },
  {
   "cell_type": "code",
   "execution_count": 100,
   "id": "09c73070",
   "metadata": {},
   "outputs": [],
   "source": [
    "x_test = scaler.transform(x_test)"
   ]
  },
  {
   "cell_type": "code",
   "execution_count": null,
   "id": "d9754ad5",
   "metadata": {},
   "outputs": [],
   "source": []
  },
  {
   "cell_type": "markdown",
   "id": "28504905",
   "metadata": {},
   "source": [
    "### Classification Models:"
   ]
  },
  {
   "cell_type": "code",
   "execution_count": 101,
   "id": "b2404ce4",
   "metadata": {},
   "outputs": [],
   "source": [
    "from sklearn.metrics import accuracy_score, confusion_matrix, classification_report"
   ]
  },
  {
   "cell_type": "markdown",
   "id": "b86c2ec3",
   "metadata": {},
   "source": [
    "#### Logistic Regression:"
   ]
  },
  {
   "cell_type": "code",
   "execution_count": 102,
   "id": "0c94f5e9",
   "metadata": {},
   "outputs": [
    {
     "name": "stdout",
     "output_type": "stream",
     "text": [
      "Accuracy:  93.24324324324324\n",
      "Confusion Matrix: \n",
      " [[29  1]\n",
      " [ 4 40]]\n",
      "Classification Report: \n",
      "               precision    recall  f1-score   support\n",
      "\n",
      "           0       0.88      0.97      0.92        30\n",
      "           1       0.98      0.91      0.94        44\n",
      "\n",
      "    accuracy                           0.93        74\n",
      "   macro avg       0.93      0.94      0.93        74\n",
      "weighted avg       0.94      0.93      0.93        74\n",
      "\n"
     ]
    }
   ],
   "source": [
    "from sklearn.linear_model import LogisticRegression\n",
    "log_model = LogisticRegression()\n",
    "log_model.fit(x_train, y_train)\n",
    "log_pred = log_model.predict(x_test)\n",
    "\n",
    "print(\"Accuracy: \", accuracy_score(y_test, log_pred)*100)\n",
    "print(\"Confusion Matrix: \\n\", confusion_matrix(y_test, log_pred))\n",
    "print(\"Classification Report: \\n\", classification_report(y_test, log_pred))"
   ]
  },
  {
   "cell_type": "markdown",
   "id": "678de28a",
   "metadata": {},
   "source": [
    "#### SVM Classifier:"
   ]
  },
  {
   "cell_type": "code",
   "execution_count": 103,
   "id": "151e3f05",
   "metadata": {},
   "outputs": [
    {
     "name": "stdout",
     "output_type": "stream",
     "text": [
      "Accuracy:  89.1891891891892\n",
      "Confusion Matrix: \n",
      " [[27  3]\n",
      " [ 5 39]]\n",
      "Classification Report: \n",
      "               precision    recall  f1-score   support\n",
      "\n",
      "           0       0.84      0.90      0.87        30\n",
      "           1       0.93      0.89      0.91        44\n",
      "\n",
      "    accuracy                           0.89        74\n",
      "   macro avg       0.89      0.89      0.89        74\n",
      "weighted avg       0.89      0.89      0.89        74\n",
      "\n"
     ]
    }
   ],
   "source": [
    "from sklearn.svm import SVC\n",
    "svm_model = SVC()\n",
    "svm_model.fit(x_train, y_train)\n",
    "svm_pred = svm_model.predict(x_test)\n",
    "\n",
    "print(\"Accuracy: \", accuracy_score(y_test, svm_pred)*100)\n",
    "print(\"Confusion Matrix: \\n\", confusion_matrix(y_test, svm_pred))\n",
    "print(\"Classification Report: \\n\", classification_report(y_test, svm_pred))"
   ]
  },
  {
   "cell_type": "markdown",
   "id": "aaf72885",
   "metadata": {},
   "source": [
    "#### Naive-Bayes Classifier:"
   ]
  },
  {
   "cell_type": "code",
   "execution_count": 104,
   "id": "b27f1951",
   "metadata": {},
   "outputs": [
    {
     "name": "stdout",
     "output_type": "stream",
     "text": [
      "Accuracy:  91.8918918918919\n",
      "Confusion Matrix: \n",
      " [[28  2]\n",
      " [ 4 40]]\n",
      "Classification Report: \n",
      "               precision    recall  f1-score   support\n",
      "\n",
      "           0       0.88      0.93      0.90        30\n",
      "           1       0.95      0.91      0.93        44\n",
      "\n",
      "    accuracy                           0.92        74\n",
      "   macro avg       0.91      0.92      0.92        74\n",
      "weighted avg       0.92      0.92      0.92        74\n",
      "\n"
     ]
    }
   ],
   "source": [
    "from sklearn.naive_bayes import GaussianNB\n",
    "NB_model = GaussianNB()\n",
    "NB_model.fit(x_train, y_train)\n",
    "NB_pred = NB_model.predict(x_test)\n",
    "\n",
    "print(\"Accuracy: \", accuracy_score(y_test, NB_pred)*100)\n",
    "print(\"Confusion Matrix: \\n\", confusion_matrix(y_test, NB_pred))\n",
    "print(\"Classification Report: \\n\", classification_report(y_test, NB_pred))"
   ]
  },
  {
   "cell_type": "markdown",
   "id": "8771ee2c",
   "metadata": {},
   "source": [
    "#### Decision Tree:"
   ]
  },
  {
   "cell_type": "code",
   "execution_count": 105,
   "id": "8cb9a22e",
   "metadata": {},
   "outputs": [
    {
     "name": "stdout",
     "output_type": "stream",
     "text": [
      "Accuracy:  95.94594594594594\n",
      "Confusion Matrix: \n",
      " [[29  1]\n",
      " [ 2 42]]\n",
      "Classification Report: \n",
      "               precision    recall  f1-score   support\n",
      "\n",
      "           0       0.94      0.97      0.95        30\n",
      "           1       0.98      0.95      0.97        44\n",
      "\n",
      "    accuracy                           0.96        74\n",
      "   macro avg       0.96      0.96      0.96        74\n",
      "weighted avg       0.96      0.96      0.96        74\n",
      "\n"
     ]
    }
   ],
   "source": [
    "from sklearn.tree import DecisionTreeClassifier\n",
    "tree_model = DecisionTreeClassifier()\n",
    "tree_model.fit(x_train, y_train)\n",
    "tree_pred = tree_model.predict(x_test)\n",
    "\n",
    "print(\"Accuracy: \", accuracy_score(y_test, tree_pred)*100)\n",
    "print(\"Confusion Matrix: \\n\", confusion_matrix(y_test, tree_pred))\n",
    "print(\"Classification Report: \\n\", classification_report(y_test, tree_pred))"
   ]
  },
  {
   "cell_type": "markdown",
   "id": "88fcf2f2",
   "metadata": {},
   "source": [
    "#### Random Forest:"
   ]
  },
  {
   "cell_type": "code",
   "execution_count": 106,
   "id": "4350b5dd",
   "metadata": {},
   "outputs": [
    {
     "name": "stdout",
     "output_type": "stream",
     "text": [
      "Accuracy:  97.2972972972973\n",
      "Confusion Matrix: \n",
      " [[30  0]\n",
      " [ 2 42]]\n",
      "Classification Report: \n",
      "               precision    recall  f1-score   support\n",
      "\n",
      "           0       0.94      1.00      0.97        30\n",
      "           1       1.00      0.95      0.98        44\n",
      "\n",
      "    accuracy                           0.97        74\n",
      "   macro avg       0.97      0.98      0.97        74\n",
      "weighted avg       0.97      0.97      0.97        74\n",
      "\n"
     ]
    }
   ],
   "source": [
    "from sklearn.ensemble import RandomForestClassifier\n",
    "rf_model = RandomForestClassifier()\n",
    "rf_model.fit(x_train, y_train)\n",
    "rf_pred = rf_model.predict(x_test)\n",
    "\n",
    "print(\"Accuracy: \", accuracy_score(y_test, rf_pred)*100)\n",
    "print(\"Confusion Matrix: \\n\", confusion_matrix(y_test, rf_pred))\n",
    "print(\"Classification Report: \\n\", classification_report(y_test, rf_pred))"
   ]
  },
  {
   "cell_type": "markdown",
   "id": "1c8ea392",
   "metadata": {},
   "source": [
    "#### Xg Boost:"
   ]
  },
  {
   "cell_type": "code",
   "execution_count": 107,
   "id": "2bf4397a",
   "metadata": {},
   "outputs": [],
   "source": [
    "import xgboost\n",
    "from sklearn.metrics import ConfusionMatrixDisplay"
   ]
  },
  {
   "cell_type": "code",
   "execution_count": 108,
   "id": "268ef524",
   "metadata": {},
   "outputs": [
    {
     "name": "stdout",
     "output_type": "stream",
     "text": [
      "Accuracy:  97.2972972972973\n",
      "Confusion Matrix: \n",
      " [[30  0]\n",
      " [ 2 42]]\n",
      "Classification Report: \n",
      "               precision    recall  f1-score   support\n",
      "\n",
      "           0       0.94      1.00      0.97        30\n",
      "           1       1.00      0.95      0.98        44\n",
      "\n",
      "    accuracy                           0.97        74\n",
      "   macro avg       0.97      0.98      0.97        74\n",
      "weighted avg       0.97      0.97      0.97        74\n",
      "\n"
     ]
    }
   ],
   "source": [
    "from xgboost import XGBClassifier\n",
    "boost_model = XGBClassifier()\n",
    "boost_model.fit(x_train, y_train)\n",
    "boost_pred = boost_model.predict(x_test)\n",
    "\n",
    "print(\"Accuracy: \", accuracy_score(y_test, boost_pred)*100)\n",
    "print(\"Confusion Matrix: \\n\", confusion_matrix(y_test, boost_pred))\n",
    "print(\"Classification Report: \\n\", classification_report(y_test, boost_pred))"
   ]
  },
  {
   "cell_type": "code",
   "execution_count": 109,
   "id": "bd46ae75",
   "metadata": {},
   "outputs": [],
   "source": [
    "# ConfusionMatrixDisplay.from_estimator(boost_model, x_test, y_test)"
   ]
  },
  {
   "cell_type": "markdown",
   "id": "8f38f224",
   "metadata": {},
   "source": [
    "#### Results Summary\n",
    "\n",
    "| Models     | Accuracy score  |\n",
    "| ----------- | ----------- |\n",
    "| Random Forest Classifier  | 97.29 % |\n",
    "| XGboost classifier     | 97.29 % |\n",
    "| Decision Tree Classifier  | 95.94 % |\n",
    "| Logistic Regression | 93.24 % |\n",
    "| Naive Bayes  | 91.89 % |\n",
    "| SVM Classifier  | 89.18 %|\n"
   ]
  },
  {
   "cell_type": "markdown",
   "id": "b6385885",
   "metadata": {},
   "source": [
    "### Hyper-Parameter Tuning:"
   ]
  },
  {
   "cell_type": "code",
   "execution_count": null,
   "id": "96c0de7f",
   "metadata": {},
   "outputs": [],
   "source": []
  },
  {
   "cell_type": "code",
   "execution_count": 110,
   "id": "998745fa",
   "metadata": {},
   "outputs": [],
   "source": [
    "from sklearn.model_selection import GridSearchCV"
   ]
  },
  {
   "cell_type": "code",
   "execution_count": 111,
   "id": "7b0a4b43",
   "metadata": {},
   "outputs": [],
   "source": [
    "# params={\n",
    "#  \"learning_rate\"    : (np.linspace(0,10, 50)) ,\n",
    "#  \"max_depth\"        : (np.linspace(1,50, 25,dtype=int)),\n",
    "#  \"min_child_weight\" : [1, 3, 5, 7],\n",
    "#  \"gamma\"            : [0.0, 0.1, 0.2 , 0.3, 0.4],\n",
    "#  \"colsample_bytree\" : [0.3, 0.4, 0.5 , 0.7]}\n",
    "\n",
    "# boost_Grid = GridSearchCV(boost_model, params, cv = 2,n_jobs = -1)\n",
    "# boost_Grid.fit(x_train, y_train)"
   ]
  },
  {
   "cell_type": "code",
   "execution_count": 112,
   "id": "0ad968d3",
   "metadata": {},
   "outputs": [],
   "source": [
    "# params = {\n",
    "#     \"n_estimators\" : [90,100,115,130],\n",
    "#     'criterion': ['gini', 'entropy'],\n",
    "#     'max_depth' : range(2,20,1),\n",
    "#     'min_samples_leaf' : range(1,10,1),\n",
    "#     'min_samples_split': range(2,10,1),\n",
    "#     'max_features' : ['auto','log2']\n",
    "# }\n",
    "# rf = RandomForestClassifier()\n",
    "# rf_grid = GridSearchCV(rf, params, cv = 2, n_jobs = -1)\n",
    "# rf_grid.fit(x_train, y_train)"
   ]
  },
  {
   "cell_type": "code",
   "execution_count": 113,
   "id": "c40ba0f2",
   "metadata": {},
   "outputs": [],
   "source": [
    "# best_grid_model = rf_grid.best_parameter_\n",
    "# y_pred = best_grid_model.predict(x_test)"
   ]
  },
  {
   "cell_type": "code",
   "execution_count": 114,
   "id": "01e3df17",
   "metadata": {},
   "outputs": [],
   "source": [
    "from sklearn.model_selection import StratifiedKFold, cross_val_score\n",
    "skfold = StratifiedKFold(n_splits= 10,shuffle= True, random_state= 42)"
   ]
  },
  {
   "cell_type": "code",
   "execution_count": 116,
   "id": "c36addaa",
   "metadata": {},
   "outputs": [
    {
     "name": "stdout",
     "output_type": "stream",
     "text": [
      "RF Model = 98.3833\n"
     ]
    }
   ],
   "source": [
    "rf = RandomForestClassifier()\n",
    "cv_rf= cross_val_score(rf, x,y, cv=skfold, scoring='accuracy').mean()\n",
    "print('RF Model = {:.4f}'.format(cv_rf*100))"
   ]
  },
  {
   "cell_type": "markdown",
   "id": "bc7dacd9",
   "metadata": {},
   "source": [
    "#### Model Deployment:"
   ]
  },
  {
   "cell_type": "code",
   "execution_count": 119,
   "id": "10b9f479",
   "metadata": {},
   "outputs": [],
   "source": [
    "rf_tuned_model = RandomForestClassifier(criterion='entropy', max_depth=18, max_features='log2',\n",
    "                                     min_samples_split=4, n_estimators=115)"
   ]
  },
  {
   "cell_type": "code",
   "execution_count": 120,
   "id": "5114d75d",
   "metadata": {},
   "outputs": [
    {
     "data": {
      "text/plain": [
       "RandomForestClassifier(criterion='entropy', max_depth=18, max_features='log2',\n",
       "                       min_samples_split=4, n_estimators=115)"
      ]
     },
     "execution_count": 120,
     "metadata": {},
     "output_type": "execute_result"
    }
   ],
   "source": [
    "rf_tuned_model.fit(x_train, y_train)"
   ]
  },
  {
   "cell_type": "code",
   "execution_count": 121,
   "id": "89c6f19f",
   "metadata": {},
   "outputs": [],
   "source": [
    "ypred = rf_tuned_model.predict(x_test)"
   ]
  },
  {
   "cell_type": "code",
   "execution_count": 122,
   "id": "2def4c15",
   "metadata": {},
   "outputs": [
    {
     "name": "stdout",
     "output_type": "stream",
     "text": [
      "Accuracy:  97.2972972972973\n",
      "Confusion Matrix: \n",
      " [[30  0]\n",
      " [ 2 42]]\n",
      "Classification Report: \n",
      "               precision    recall  f1-score   support\n",
      "\n",
      "           0       0.94      1.00      0.97        30\n",
      "           1       1.00      0.95      0.98        44\n",
      "\n",
      "    accuracy                           0.97        74\n",
      "   macro avg       0.97      0.98      0.97        74\n",
      "weighted avg       0.97      0.97      0.97        74\n",
      "\n"
     ]
    }
   ],
   "source": [
    "print(\"Accuracy: \", accuracy_score(y_test, boost_pred)*100)\n",
    "print(\"Confusion Matrix: \\n\", confusion_matrix(y_test, boost_pred))\n",
    "print(\"Classification Report: \\n\", classification_report(y_test, boost_pred))"
   ]
  },
  {
   "cell_type": "code",
   "execution_count": null,
   "id": "7cd3f425",
   "metadata": {},
   "outputs": [],
   "source": []
  },
  {
   "cell_type": "code",
   "execution_count": null,
   "id": "42b8aab3",
   "metadata": {},
   "outputs": [],
   "source": []
  },
  {
   "cell_type": "markdown",
   "id": "f6d350e9",
   "metadata": {},
   "source": [
    "### Exporting Pickel File;"
   ]
  },
  {
   "cell_type": "code",
   "execution_count": 124,
   "id": "3f9b7266",
   "metadata": {},
   "outputs": [],
   "source": [
    "import pickle\n",
    "pickle.dump(rf_tuned_model, open('Classification.pkl', 'wb'))"
   ]
  },
  {
   "cell_type": "code",
   "execution_count": null,
   "id": "58f4f240",
   "metadata": {},
   "outputs": [],
   "source": []
  },
  {
   "cell_type": "code",
   "execution_count": null,
   "id": "c06f79a0",
   "metadata": {},
   "outputs": [],
   "source": []
  },
  {
   "cell_type": "code",
   "execution_count": null,
   "id": "00ea5bbb",
   "metadata": {},
   "outputs": [],
   "source": []
  },
  {
   "cell_type": "markdown",
   "id": "dc567814",
   "metadata": {},
   "source": [
    "#### Testing:"
   ]
  },
  {
   "cell_type": "code",
   "execution_count": 125,
   "id": "7b3aaa75",
   "metadata": {},
   "outputs": [
    {
     "data": {
      "text/html": [
       "<div>\n",
       "<style scoped>\n",
       "    .dataframe tbody tr th:only-of-type {\n",
       "        vertical-align: middle;\n",
       "    }\n",
       "\n",
       "    .dataframe tbody tr th {\n",
       "        vertical-align: top;\n",
       "    }\n",
       "\n",
       "    .dataframe thead th {\n",
       "        text-align: right;\n",
       "    }\n",
       "</style>\n",
       "<table border=\"1\" class=\"dataframe\">\n",
       "  <thead>\n",
       "    <tr style=\"text-align: right;\">\n",
       "      <th></th>\n",
       "      <th>Temperature</th>\n",
       "      <th>RH</th>\n",
       "      <th>Ws</th>\n",
       "      <th>Rain</th>\n",
       "      <th>FFMC</th>\n",
       "      <th>DMC</th>\n",
       "      <th>DC</th>\n",
       "      <th>ISI</th>\n",
       "      <th>FWI</th>\n",
       "      <th>Classes</th>\n",
       "    </tr>\n",
       "  </thead>\n",
       "  <tbody>\n",
       "    <tr>\n",
       "      <th>0</th>\n",
       "      <td>29.0</td>\n",
       "      <td>57</td>\n",
       "      <td>18</td>\n",
       "      <td>0.00</td>\n",
       "      <td>65.7000</td>\n",
       "      <td>3.4</td>\n",
       "      <td>7.6</td>\n",
       "      <td>1.3</td>\n",
       "      <td>0.5</td>\n",
       "      <td>0</td>\n",
       "    </tr>\n",
       "    <tr>\n",
       "      <th>1</th>\n",
       "      <td>29.0</td>\n",
       "      <td>61</td>\n",
       "      <td>13</td>\n",
       "      <td>1.25</td>\n",
       "      <td>64.4000</td>\n",
       "      <td>4.1</td>\n",
       "      <td>7.6</td>\n",
       "      <td>1.0</td>\n",
       "      <td>0.4</td>\n",
       "      <td>0</td>\n",
       "    </tr>\n",
       "    <tr>\n",
       "      <th>2</th>\n",
       "      <td>26.0</td>\n",
       "      <td>82</td>\n",
       "      <td>22</td>\n",
       "      <td>1.25</td>\n",
       "      <td>47.7375</td>\n",
       "      <td>2.5</td>\n",
       "      <td>7.1</td>\n",
       "      <td>0.3</td>\n",
       "      <td>0.1</td>\n",
       "      <td>0</td>\n",
       "    </tr>\n",
       "    <tr>\n",
       "      <th>3</th>\n",
       "      <td>25.0</td>\n",
       "      <td>89</td>\n",
       "      <td>13</td>\n",
       "      <td>1.25</td>\n",
       "      <td>47.7375</td>\n",
       "      <td>1.3</td>\n",
       "      <td>6.9</td>\n",
       "      <td>0.0</td>\n",
       "      <td>0.0</td>\n",
       "      <td>0</td>\n",
       "    </tr>\n",
       "    <tr>\n",
       "      <th>4</th>\n",
       "      <td>27.0</td>\n",
       "      <td>77</td>\n",
       "      <td>16</td>\n",
       "      <td>0.00</td>\n",
       "      <td>64.8000</td>\n",
       "      <td>3.0</td>\n",
       "      <td>14.2</td>\n",
       "      <td>1.2</td>\n",
       "      <td>0.5</td>\n",
       "      <td>0</td>\n",
       "    </tr>\n",
       "  </tbody>\n",
       "</table>\n",
       "</div>"
      ],
      "text/plain": [
       "   Temperature  RH  Ws  Rain     FFMC  DMC    DC  ISI  FWI  Classes\n",
       "0         29.0  57  18  0.00  65.7000  3.4   7.6  1.3  0.5        0\n",
       "1         29.0  61  13  1.25  64.4000  4.1   7.6  1.0  0.4        0\n",
       "2         26.0  82  22  1.25  47.7375  2.5   7.1  0.3  0.1        0\n",
       "3         25.0  89  13  1.25  47.7375  1.3   6.9  0.0  0.0        0\n",
       "4         27.0  77  16  0.00  64.8000  3.0  14.2  1.2  0.5        0"
      ]
     },
     "execution_count": 125,
     "metadata": {},
     "output_type": "execute_result"
    }
   ],
   "source": [
    "data.head()"
   ]
  },
  {
   "cell_type": "code",
   "execution_count": 126,
   "id": "10b8e185",
   "metadata": {},
   "outputs": [
    {
     "data": {
      "text/html": [
       "<div>\n",
       "<style scoped>\n",
       "    .dataframe tbody tr th:only-of-type {\n",
       "        vertical-align: middle;\n",
       "    }\n",
       "\n",
       "    .dataframe tbody tr th {\n",
       "        vertical-align: top;\n",
       "    }\n",
       "\n",
       "    .dataframe thead th {\n",
       "        text-align: right;\n",
       "    }\n",
       "</style>\n",
       "<table border=\"1\" class=\"dataframe\">\n",
       "  <thead>\n",
       "    <tr style=\"text-align: right;\">\n",
       "      <th></th>\n",
       "      <th>Temperature</th>\n",
       "      <th>RH</th>\n",
       "      <th>Ws</th>\n",
       "      <th>Rain</th>\n",
       "      <th>FFMC</th>\n",
       "      <th>DMC</th>\n",
       "      <th>DC</th>\n",
       "      <th>ISI</th>\n",
       "    </tr>\n",
       "  </thead>\n",
       "  <tbody>\n",
       "    <tr>\n",
       "      <th>0</th>\n",
       "      <td>29.0</td>\n",
       "      <td>57</td>\n",
       "      <td>18</td>\n",
       "      <td>0.00</td>\n",
       "      <td>65.7000</td>\n",
       "      <td>3.4</td>\n",
       "      <td>7.6</td>\n",
       "      <td>1.3</td>\n",
       "    </tr>\n",
       "    <tr>\n",
       "      <th>1</th>\n",
       "      <td>29.0</td>\n",
       "      <td>61</td>\n",
       "      <td>13</td>\n",
       "      <td>1.25</td>\n",
       "      <td>64.4000</td>\n",
       "      <td>4.1</td>\n",
       "      <td>7.6</td>\n",
       "      <td>1.0</td>\n",
       "    </tr>\n",
       "    <tr>\n",
       "      <th>2</th>\n",
       "      <td>26.0</td>\n",
       "      <td>82</td>\n",
       "      <td>22</td>\n",
       "      <td>1.25</td>\n",
       "      <td>47.7375</td>\n",
       "      <td>2.5</td>\n",
       "      <td>7.1</td>\n",
       "      <td>0.3</td>\n",
       "    </tr>\n",
       "    <tr>\n",
       "      <th>3</th>\n",
       "      <td>25.0</td>\n",
       "      <td>89</td>\n",
       "      <td>13</td>\n",
       "      <td>1.25</td>\n",
       "      <td>47.7375</td>\n",
       "      <td>1.3</td>\n",
       "      <td>6.9</td>\n",
       "      <td>0.0</td>\n",
       "    </tr>\n",
       "    <tr>\n",
       "      <th>4</th>\n",
       "      <td>27.0</td>\n",
       "      <td>77</td>\n",
       "      <td>16</td>\n",
       "      <td>0.00</td>\n",
       "      <td>64.8000</td>\n",
       "      <td>3.0</td>\n",
       "      <td>14.2</td>\n",
       "      <td>1.2</td>\n",
       "    </tr>\n",
       "  </tbody>\n",
       "</table>\n",
       "</div>"
      ],
      "text/plain": [
       "   Temperature  RH  Ws  Rain     FFMC  DMC    DC  ISI\n",
       "0         29.0  57  18  0.00  65.7000  3.4   7.6  1.3\n",
       "1         29.0  61  13  1.25  64.4000  4.1   7.6  1.0\n",
       "2         26.0  82  22  1.25  47.7375  2.5   7.1  0.3\n",
       "3         25.0  89  13  1.25  47.7375  1.3   6.9  0.0\n",
       "4         27.0  77  16  0.00  64.8000  3.0  14.2  1.2"
      ]
     },
     "execution_count": 126,
     "metadata": {},
     "output_type": "execute_result"
    }
   ],
   "source": [
    "x.head()"
   ]
  },
  {
   "cell_type": "code",
   "execution_count": 127,
   "id": "730574e7",
   "metadata": {},
   "outputs": [],
   "source": [
    "reg = pickle.load(open('Regression.pkl', 'rb'))\n",
    "clas = pickle.load(open('Classification.pkl', 'rb'))\n",
    "scale = pickle.load(open('Features_Scaled.pkl', 'rb'))"
   ]
  },
  {
   "cell_type": "code",
   "execution_count": 129,
   "id": "603e538a",
   "metadata": {},
   "outputs": [
    {
     "data": {
      "text/plain": [
       "[27.0, 77.0, 16.0, 0.0, 64.8, 3.0, 14.2, 1.2]"
      ]
     },
     "execution_count": 129,
     "metadata": {},
     "output_type": "execute_result"
    }
   ],
   "source": [
    "ls = list(x.iloc[4,:])\n",
    "ls"
   ]
  },
  {
   "cell_type": "code",
   "execution_count": 130,
   "id": "23e8bae0",
   "metadata": {},
   "outputs": [
    {
     "data": {
      "text/plain": [
       "array([[27. , 77. , 16. ,  0. , 64.8,  3. , 14.2,  1.2]])"
      ]
     },
     "execution_count": 130,
     "metadata": {},
     "output_type": "execute_result"
    }
   ],
   "source": [
    "values = np.array(ls).reshape(1,-1)\n",
    "values"
   ]
  },
  {
   "cell_type": "code",
   "execution_count": 131,
   "id": "b6d473a1",
   "metadata": {},
   "outputs": [],
   "source": [
    "values = scale.transform(values)"
   ]
  },
  {
   "cell_type": "code",
   "execution_count": 132,
   "id": "3c8a8676",
   "metadata": {},
   "outputs": [
    {
     "data": {
      "text/plain": [
       "array([0.5])"
      ]
     },
     "execution_count": 132,
     "metadata": {},
     "output_type": "execute_result"
    }
   ],
   "source": [
    "reg.predict(values)"
   ]
  },
  {
   "cell_type": "code",
   "execution_count": null,
   "id": "f5a88496",
   "metadata": {},
   "outputs": [],
   "source": []
  },
  {
   "cell_type": "code",
   "execution_count": null,
   "id": "47761a1a",
   "metadata": {},
   "outputs": [],
   "source": []
  },
  {
   "cell_type": "code",
   "execution_count": null,
   "id": "dc1574d9",
   "metadata": {},
   "outputs": [],
   "source": []
  }
 ],
 "metadata": {
  "kernelspec": {
   "display_name": "Python 3",
   "language": "python",
   "name": "python3"
  },
  "language_info": {
   "codemirror_mode": {
    "name": "ipython",
    "version": 3
   },
   "file_extension": ".py",
   "mimetype": "text/x-python",
   "name": "python",
   "nbconvert_exporter": "python",
   "pygments_lexer": "ipython3",
   "version": "3.8.8"
  },
  "vscode": {
   "interpreter": {
    "hash": "541414b24a3b84bd9e0ecfa6d8acc4faa12453ee32a2c836159326a76359fe5c"
   }
  }
 },
 "nbformat": 4,
 "nbformat_minor": 5
}
