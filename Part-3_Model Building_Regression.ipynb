{
 "cells": [
  {
   "cell_type": "code",
   "execution_count": 94,
   "id": "ee5d2625",
   "metadata": {},
   "outputs": [],
   "source": [
    "import pandas as pd\n",
    "import numpy as np\n",
    "import matplotlib.pyplot as plt\n",
    "%matplotlib inline\n",
    "import seaborn as sns\n",
    "\n",
    "import warnings\n",
    "warnings.filterwarnings('ignore')"
   ]
  },
  {
   "cell_type": "code",
   "execution_count": 95,
   "id": "8f4b07e7",
   "metadata": {},
   "outputs": [],
   "source": [
    "data = pd.read_csv('Datasets/Data_RemoveOutliers')"
   ]
  },
  {
   "cell_type": "code",
   "execution_count": 96,
   "id": "d6dbb001",
   "metadata": {},
   "outputs": [
    {
     "data": {
      "text/html": [
       "<div>\n",
       "<style scoped>\n",
       "    .dataframe tbody tr th:only-of-type {\n",
       "        vertical-align: middle;\n",
       "    }\n",
       "\n",
       "    .dataframe tbody tr th {\n",
       "        vertical-align: top;\n",
       "    }\n",
       "\n",
       "    .dataframe thead th {\n",
       "        text-align: right;\n",
       "    }\n",
       "</style>\n",
       "<table border=\"1\" class=\"dataframe\">\n",
       "  <thead>\n",
       "    <tr style=\"text-align: right;\">\n",
       "      <th></th>\n",
       "      <th>Temperature</th>\n",
       "      <th>RH</th>\n",
       "      <th>Ws</th>\n",
       "      <th>Rain</th>\n",
       "      <th>FFMC</th>\n",
       "      <th>DMC</th>\n",
       "      <th>DC</th>\n",
       "      <th>ISI</th>\n",
       "      <th>FWI</th>\n",
       "      <th>Classes</th>\n",
       "    </tr>\n",
       "  </thead>\n",
       "  <tbody>\n",
       "    <tr>\n",
       "      <th>0</th>\n",
       "      <td>29</td>\n",
       "      <td>57</td>\n",
       "      <td>18</td>\n",
       "      <td>0.00</td>\n",
       "      <td>65.7000</td>\n",
       "      <td>3.4</td>\n",
       "      <td>7.6</td>\n",
       "      <td>1.3</td>\n",
       "      <td>0.5</td>\n",
       "      <td>0</td>\n",
       "    </tr>\n",
       "    <tr>\n",
       "      <th>1</th>\n",
       "      <td>29</td>\n",
       "      <td>61</td>\n",
       "      <td>13</td>\n",
       "      <td>1.25</td>\n",
       "      <td>64.4000</td>\n",
       "      <td>4.1</td>\n",
       "      <td>7.6</td>\n",
       "      <td>1.0</td>\n",
       "      <td>0.4</td>\n",
       "      <td>0</td>\n",
       "    </tr>\n",
       "    <tr>\n",
       "      <th>2</th>\n",
       "      <td>26</td>\n",
       "      <td>82</td>\n",
       "      <td>22</td>\n",
       "      <td>1.25</td>\n",
       "      <td>47.7375</td>\n",
       "      <td>2.5</td>\n",
       "      <td>7.1</td>\n",
       "      <td>0.3</td>\n",
       "      <td>0.1</td>\n",
       "      <td>0</td>\n",
       "    </tr>\n",
       "    <tr>\n",
       "      <th>3</th>\n",
       "      <td>25</td>\n",
       "      <td>89</td>\n",
       "      <td>13</td>\n",
       "      <td>1.25</td>\n",
       "      <td>47.7375</td>\n",
       "      <td>1.3</td>\n",
       "      <td>6.9</td>\n",
       "      <td>0.0</td>\n",
       "      <td>0.0</td>\n",
       "      <td>0</td>\n",
       "    </tr>\n",
       "    <tr>\n",
       "      <th>4</th>\n",
       "      <td>27</td>\n",
       "      <td>77</td>\n",
       "      <td>16</td>\n",
       "      <td>0.00</td>\n",
       "      <td>64.8000</td>\n",
       "      <td>3.0</td>\n",
       "      <td>14.2</td>\n",
       "      <td>1.2</td>\n",
       "      <td>0.5</td>\n",
       "      <td>0</td>\n",
       "    </tr>\n",
       "  </tbody>\n",
       "</table>\n",
       "</div>"
      ],
      "text/plain": [
       "   Temperature  RH  Ws  Rain     FFMC  DMC    DC  ISI  FWI  Classes\n",
       "0           29  57  18  0.00  65.7000  3.4   7.6  1.3  0.5        0\n",
       "1           29  61  13  1.25  64.4000  4.1   7.6  1.0  0.4        0\n",
       "2           26  82  22  1.25  47.7375  2.5   7.1  0.3  0.1        0\n",
       "3           25  89  13  1.25  47.7375  1.3   6.9  0.0  0.0        0\n",
       "4           27  77  16  0.00  64.8000  3.0  14.2  1.2  0.5        0"
      ]
     },
     "execution_count": 96,
     "metadata": {},
     "output_type": "execute_result"
    }
   ],
   "source": [
    "data.head()\n",
    "# data.shape"
   ]
  },
  {
   "cell_type": "markdown",
   "id": "bf3760ad",
   "metadata": {},
   "source": [
    "#### Taking x and y values:"
   ]
  },
  {
   "cell_type": "code",
   "execution_count": 97,
   "id": "bff199bc",
   "metadata": {},
   "outputs": [],
   "source": [
    "x = data.drop(['FWI', 'Classes'], axis=1)"
   ]
  },
  {
   "cell_type": "code",
   "execution_count": 98,
   "id": "a7bf9c9e",
   "metadata": {},
   "outputs": [],
   "source": [
    "y = data['FWI']"
   ]
  },
  {
   "cell_type": "code",
   "execution_count": null,
   "id": "e910a8ea",
   "metadata": {},
   "outputs": [],
   "source": []
  },
  {
   "cell_type": "markdown",
   "id": "a119ae42",
   "metadata": {},
   "source": [
    "#### Train-Test split():"
   ]
  },
  {
   "cell_type": "code",
   "execution_count": 99,
   "id": "d8b01bfb",
   "metadata": {},
   "outputs": [],
   "source": [
    "from sklearn.model_selection import train_test_split\n",
    "x_train, x_test, y_train, y_test = train_test_split(x, y, test_size=.25, random_state=42)"
   ]
  },
  {
   "cell_type": "code",
   "execution_count": 100,
   "id": "42166ec6",
   "metadata": {},
   "outputs": [
    {
     "data": {
      "text/plain": [
       "(183, 8)"
      ]
     },
     "execution_count": 100,
     "metadata": {},
     "output_type": "execute_result"
    }
   ],
   "source": [
    "x_train.shape"
   ]
  },
  {
   "cell_type": "code",
   "execution_count": null,
   "id": "f30374fe",
   "metadata": {},
   "outputs": [],
   "source": []
  },
  {
   "cell_type": "markdown",
   "id": "e4d95718",
   "metadata": {},
   "source": [
    "#### Feature Scaling:"
   ]
  },
  {
   "cell_type": "code",
   "execution_count": 101,
   "id": "e1914506",
   "metadata": {},
   "outputs": [],
   "source": [
    "from sklearn.preprocessing import StandardScaler\n",
    "scaler = StandardScaler()"
   ]
  },
  {
   "cell_type": "code",
   "execution_count": 102,
   "id": "87a62290",
   "metadata": {},
   "outputs": [],
   "source": [
    "x_train = scaler.fit_transform(x_train)"
   ]
  },
  {
   "cell_type": "code",
   "execution_count": 103,
   "id": "e647b879",
   "metadata": {},
   "outputs": [],
   "source": [
    "x_test = scaler.transform(x_test)"
   ]
  },
  {
   "cell_type": "code",
   "execution_count": 104,
   "id": "cdcfae0a",
   "metadata": {},
   "outputs": [],
   "source": [
    "import pickle\n",
    "pickle.dump(scaler, open('Scaler_Transformed.pkl', 'wb'))"
   ]
  },
  {
   "cell_type": "code",
   "execution_count": null,
   "id": "86c1008c",
   "metadata": {},
   "outputs": [],
   "source": []
  },
  {
   "cell_type": "markdown",
   "id": "d01713ae",
   "metadata": {},
   "source": [
    "### Regression Models:"
   ]
  },
  {
   "cell_type": "markdown",
   "id": "87907180",
   "metadata": {},
   "source": [
    "#### Linear Regression:"
   ]
  },
  {
   "cell_type": "code",
   "execution_count": 105,
   "id": "4bf39586",
   "metadata": {},
   "outputs": [
    {
     "data": {
      "text/plain": [
       "LinearRegression()"
      ]
     },
     "execution_count": 105,
     "metadata": {},
     "output_type": "execute_result"
    }
   ],
   "source": [
    "from sklearn.linear_model import LinearRegression\n",
    "linear_model = LinearRegression()\n",
    "linear_model.fit(x_train, y_train)"
   ]
  },
  {
   "cell_type": "markdown",
   "id": "fac08bcb",
   "metadata": {},
   "source": [
    "#### Ridge Regression:\n"
   ]
  },
  {
   "cell_type": "code",
   "execution_count": 106,
   "id": "571eee00",
   "metadata": {},
   "outputs": [
    {
     "data": {
      "text/plain": [
       "Ridge()"
      ]
     },
     "execution_count": 106,
     "metadata": {},
     "output_type": "execute_result"
    }
   ],
   "source": [
    "from sklearn.linear_model import Ridge\n",
    "ridge_model = Ridge()\n",
    "ridge_model.fit(x_train, y_train)"
   ]
  },
  {
   "cell_type": "markdown",
   "id": "acd43de2",
   "metadata": {},
   "source": [
    "#### Lasso Regression:"
   ]
  },
  {
   "cell_type": "code",
   "execution_count": 107,
   "id": "32fd77cb",
   "metadata": {},
   "outputs": [
    {
     "data": {
      "text/plain": [
       "Lasso()"
      ]
     },
     "execution_count": 107,
     "metadata": {},
     "output_type": "execute_result"
    }
   ],
   "source": [
    "from sklearn.linear_model import Lasso\n",
    "lasso_model = Lasso()\n",
    "lasso_model.fit(x_train, y_train)"
   ]
  },
  {
   "cell_type": "markdown",
   "id": "7e1b975e",
   "metadata": {},
   "source": [
    "#### KNN Regression:"
   ]
  },
  {
   "cell_type": "code",
   "execution_count": 108,
   "id": "c4e89dc6",
   "metadata": {},
   "outputs": [
    {
     "data": {
      "text/plain": [
       "KNeighborsRegressor()"
      ]
     },
     "execution_count": 108,
     "metadata": {},
     "output_type": "execute_result"
    }
   ],
   "source": [
    "from sklearn.neighbors import KNeighborsRegressor\n",
    "knn_model = KNeighborsRegressor()\n",
    "knn_model.fit(x_train, y_train)"
   ]
  },
  {
   "cell_type": "markdown",
   "id": "de0462fc",
   "metadata": {},
   "source": [
    "#### SVM Regressor:"
   ]
  },
  {
   "cell_type": "code",
   "execution_count": 109,
   "id": "bc8fb250",
   "metadata": {},
   "outputs": [
    {
     "data": {
      "text/plain": [
       "SVR()"
      ]
     },
     "execution_count": 109,
     "metadata": {},
     "output_type": "execute_result"
    }
   ],
   "source": [
    "from sklearn.svm import SVR\n",
    "svm_model = SVR()\n",
    "svm_model.fit(x_train, y_train)"
   ]
  },
  {
   "cell_type": "markdown",
   "id": "50af56ae",
   "metadata": {},
   "source": [
    "#### Decision Tree Regression:"
   ]
  },
  {
   "cell_type": "code",
   "execution_count": 110,
   "id": "94e3d19b",
   "metadata": {},
   "outputs": [
    {
     "data": {
      "text/plain": [
       "DecisionTreeRegressor()"
      ]
     },
     "execution_count": 110,
     "metadata": {},
     "output_type": "execute_result"
    }
   ],
   "source": [
    "from sklearn.tree import DecisionTreeRegressor\n",
    "tree_model = DecisionTreeRegressor()\n",
    "tree_model.fit(x_train, y_train)"
   ]
  },
  {
   "cell_type": "markdown",
   "id": "fd8ab0db",
   "metadata": {},
   "source": [
    "#### Random Forest:"
   ]
  },
  {
   "cell_type": "code",
   "execution_count": 111,
   "id": "80f1c8fe",
   "metadata": {},
   "outputs": [
    {
     "data": {
      "text/plain": [
       "RandomForestRegressor()"
      ]
     },
     "execution_count": 111,
     "metadata": {},
     "output_type": "execute_result"
    }
   ],
   "source": [
    "from sklearn.ensemble import RandomForestRegressor\n",
    "rf_model = RandomForestRegressor()\n",
    "rf_model.fit(x_train, y_train)"
   ]
  },
  {
   "cell_type": "markdown",
   "id": "85ee57be",
   "metadata": {},
   "source": [
    "#### Gradient Boost:"
   ]
  },
  {
   "cell_type": "code",
   "execution_count": 112,
   "id": "fce4535c",
   "metadata": {},
   "outputs": [
    {
     "data": {
      "text/plain": [
       "GradientBoostingRegressor()"
      ]
     },
     "execution_count": 112,
     "metadata": {},
     "output_type": "execute_result"
    }
   ],
   "source": [
    "from sklearn.ensemble import GradientBoostingRegressor\n",
    "grad_model = GradientBoostingRegressor()\n",
    "grad_model.fit(x_train, y_train)"
   ]
  },
  {
   "cell_type": "markdown",
   "id": "62db877c",
   "metadata": {},
   "source": [
    "#### List of Models Performance:"
   ]
  },
  {
   "cell_type": "code",
   "execution_count": 113,
   "id": "b9a9fff4",
   "metadata": {},
   "outputs": [],
   "source": [
    "models = models = [linear_model, ridge_model, lasso_model, knn_model, svm_model, tree_model, rf_model, grad_model]"
   ]
  },
  {
   "cell_type": "code",
   "execution_count": 114,
   "id": "20d97f4d",
   "metadata": {},
   "outputs": [],
   "source": [
    "from sklearn.metrics import r2_score, mean_absolute_error"
   ]
  },
  {
   "cell_type": "code",
   "execution_count": 115,
   "id": "f3eb35de",
   "metadata": {},
   "outputs": [
    {
     "name": "stdout",
     "output_type": "stream",
     "text": [
      "LinearRegression(): R2=98.3492 | Adj_R2=98.0952 | MAE=0.6131\n",
      "Ridge(): R2=98.2581 | Adj_R2=97.9902 | MAE=0.6258\n",
      "Lasso(): R2=94.2718 | Adj_R2=93.3906 | MAE=1.2095\n",
      "KNeighborsRegressor(): R2=95.4593 | Adj_R2=94.7607 | MAE=1.0230\n",
      "SVR(): R2=81.8602 | Adj_R2=79.0694 | MAE=1.5133\n",
      "DecisionTreeRegressor(): R2=93.8766 | Adj_R2=92.9345 | MAE=1.1230\n",
      "RandomForestRegressor(): R2=97.9465 | Adj_R2=97.6306 | MAE=0.6713\n",
      "GradientBoostingRegressor(): R2=97.5952 | Adj_R2=97.2252 | MAE=0.6974\n"
     ]
    }
   ],
   "source": [
    "for model in models:\n",
    "    y_pred = model.predict(x_test)\n",
    "    r2score = r2_score(y_test, y_pred)\n",
    "    adj_r2 = (1-(1-r2score)*(len(x_test)-1)/(len(x_test)-x_test.shape[1]-1))\n",
    "    mae = mean_absolute_error(y_test, y_pred)\n",
    "    print(f\"{model}: R2={r2score*100:.4f} | Adj_R2={adj_r2*100:.4f} | MAE={mae:.4f}\")"
   ]
  },
  {
   "cell_type": "markdown",
   "id": "de0dd7be",
   "metadata": {},
   "source": [
    "#### Results Summary:\n",
    "| Models | Accuracy score |\n",
    "| ----------- | ----------- |\n",
    "| Linear Regression | 98.35 % |\n",
    "| Ridge Regression | 98.26 % |\n",
    "| Random Forest Regressor | 97.95 % |\n",
    "| GradientBoostingRegressor | 97.59 % |\n",
    "| KNN Regressor | 95.46 %|\n",
    "| Lasso Regression | 94.27 % |\n",
    "| DecisionTreeRegressor | 93.87 % |\n",
    "| Support Vector Regressor | 81.86 % |\n",
    "\n"
   ]
  },
  {
   "cell_type": "markdown",
   "id": "74e3955f",
   "metadata": {},
   "source": [
    "### Hyper-Parameter Tuning :"
   ]
  },
  {
   "cell_type": "code",
   "execution_count": 131,
   "id": "3fb9f67b",
   "metadata": {},
   "outputs": [],
   "source": [
    "from sklearn.model_selection import GridSearchCV"
   ]
  },
  {
   "cell_type": "code",
   "execution_count": 132,
   "id": "039c1b83",
   "metadata": {},
   "outputs": [
    {
     "name": "stdout",
     "output_type": "stream",
     "text": [
      "Fitting 10 folds for each of 1728 candidates, totalling 17280 fits\n"
     ]
    },
    {
     "data": {
      "text/plain": [
       "GridSearchCV(cv=10, estimator=RandomForestRegressor(), n_jobs=-1,\n",
       "             param_grid=[{'bootstrap': [True, False],\n",
       "                          'max_depth': [10, 20, 30, 40, 50, 60, 70, 80, 90, 100,\n",
       "                                        110, 120],\n",
       "                          'max_features': ['auto', 'sqrt'],\n",
       "                          'min_samples_leaf': [1, 3, 4],\n",
       "                          'min_samples_split': [2, 6, 10],\n",
       "                          'n_estimators': [5, 20, 50, 100]}],\n",
       "             verbose=2)"
      ]
     },
     "execution_count": 132,
     "metadata": {},
     "output_type": "execute_result"
    }
   ],
   "source": [
    "param_grid =[{'bootstrap': [True, False],\n",
    "'max_depth': [10, 20, 30, 40, 50, 60, 70, 80, 90, 100, 110,120],\n",
    "'max_features': ['auto', 'sqrt'],\n",
    "'min_samples_leaf': [1, 3, 4],\n",
    "'min_samples_split': [2, 6, 10],\n",
    "'n_estimators': [5, 20, 50, 100]}]\n",
    "\n",
    "rf_model = RandomForestRegressor()\n",
    "rf_Grid = GridSearchCV(rf_model, param_grid, cv = 10, verbose=2, n_jobs = -1)\n",
    "rf_Grid.fit(x_train, y_train)"
   ]
  },
  {
   "cell_type": "code",
   "execution_count": 133,
   "id": "6ed6f96c",
   "metadata": {},
   "outputs": [
    {
     "data": {
      "text/plain": [
       "RandomForestRegressor(bootstrap=False, max_depth=20, max_features='sqrt')"
      ]
     },
     "execution_count": 133,
     "metadata": {},
     "output_type": "execute_result"
    }
   ],
   "source": [
    "best_grid_model = rf_Grid.best_estimator_\n",
    "best_grid_model"
   ]
  },
  {
   "cell_type": "code",
   "execution_count": 134,
   "id": "d507b76d",
   "metadata": {},
   "outputs": [
    {
     "data": {
      "text/plain": [
       "{'bootstrap': False,\n",
       " 'max_depth': 20,\n",
       " 'max_features': 'sqrt',\n",
       " 'min_samples_leaf': 1,\n",
       " 'min_samples_split': 2,\n",
       " 'n_estimators': 100}"
      ]
     },
     "execution_count": 134,
     "metadata": {},
     "output_type": "execute_result"
    }
   ],
   "source": [
    "rf_Grid.best_params_"
   ]
  },
  {
   "cell_type": "code",
   "execution_count": 135,
   "id": "8ae74ab9",
   "metadata": {},
   "outputs": [
    {
     "data": {
      "text/plain": [
       "0.9733399021838964"
      ]
     },
     "execution_count": 135,
     "metadata": {},
     "output_type": "execute_result"
    }
   ],
   "source": [
    "rf_Grid.best_score_"
   ]
  },
  {
   "cell_type": "code",
   "execution_count": 136,
   "id": "d3b902e6",
   "metadata": {},
   "outputs": [],
   "source": [
    "y_pred = best_grid_model.predict(x_test)"
   ]
  },
  {
   "cell_type": "code",
   "execution_count": 137,
   "id": "c87eb373",
   "metadata": {},
   "outputs": [
    {
     "name": "stdout",
     "output_type": "stream",
     "text": [
      "Tuned Random Forest: R2=97.2174 | Adj_R2=96.7893 | MAE=0.7815\n"
     ]
    }
   ],
   "source": [
    "r2score = r2_score(y_test, y_pred)\n",
    "adj_r2 = (1-(1-r2score)*(len(x_test)-1)/(len(x_test)-x_test.shape[1]-1))\n",
    "mae = mean_absolute_error(y_test, y_pred)\n",
    "print(f\"Tuned Random Forest: R2={r2score*100:.4f} | Adj_R2={adj_r2*100:.4f} | MAE={mae:.4f}\")"
   ]
  },
  {
   "cell_type": "markdown",
   "id": "c10ef542",
   "metadata": {},
   "source": [
    "### Exporting Pickle File:"
   ]
  },
  {
   "cell_type": "code",
   "execution_count": 157,
   "id": "699dd17c",
   "metadata": {},
   "outputs": [],
   "source": [
    "import pickle\n",
    "pickle.dump(best_grid_model, open('Regression.pkl', 'wb'))"
   ]
  },
  {
   "cell_type": "code",
   "execution_count": null,
   "id": "1f83d627",
   "metadata": {},
   "outputs": [],
   "source": []
  },
  {
   "cell_type": "markdown",
   "id": "d6ac7ff2",
   "metadata": {},
   "source": [
    "#### Checking Feature Importance:"
   ]
  },
  {
   "cell_type": "code",
   "execution_count": 150,
   "id": "48537977",
   "metadata": {},
   "outputs": [],
   "source": [
    "feature_significance = rf_Grid.best_estimator_.feature_importances_"
   ]
  },
  {
   "cell_type": "code",
   "execution_count": 151,
   "id": "5283f64c",
   "metadata": {},
   "outputs": [],
   "source": [
    "df_features = pd.DataFrame({'Feature': data.columns[:-2], \n",
    "                            'Importance': feature_significance*100}).sort_values('Importance', ascending=False)"
   ]
  },
  {
   "cell_type": "code",
   "execution_count": 152,
   "id": "0175a0dd",
   "metadata": {},
   "outputs": [
    {
     "data": {
      "text/html": [
       "<div>\n",
       "<style scoped>\n",
       "    .dataframe tbody tr th:only-of-type {\n",
       "        vertical-align: middle;\n",
       "    }\n",
       "\n",
       "    .dataframe tbody tr th {\n",
       "        vertical-align: top;\n",
       "    }\n",
       "\n",
       "    .dataframe thead th {\n",
       "        text-align: right;\n",
       "    }\n",
       "</style>\n",
       "<table border=\"1\" class=\"dataframe\">\n",
       "  <thead>\n",
       "    <tr style=\"text-align: right;\">\n",
       "      <th></th>\n",
       "      <th>Feature</th>\n",
       "      <th>Importance</th>\n",
       "    </tr>\n",
       "  </thead>\n",
       "  <tbody>\n",
       "    <tr>\n",
       "      <th>7</th>\n",
       "      <td>ISI</td>\n",
       "      <td>26.882710</td>\n",
       "    </tr>\n",
       "    <tr>\n",
       "      <th>4</th>\n",
       "      <td>FFMC</td>\n",
       "      <td>25.686164</td>\n",
       "    </tr>\n",
       "    <tr>\n",
       "      <th>5</th>\n",
       "      <td>DMC</td>\n",
       "      <td>19.079596</td>\n",
       "    </tr>\n",
       "    <tr>\n",
       "      <th>6</th>\n",
       "      <td>DC</td>\n",
       "      <td>12.181560</td>\n",
       "    </tr>\n",
       "    <tr>\n",
       "      <th>3</th>\n",
       "      <td>Rain</td>\n",
       "      <td>6.997366</td>\n",
       "    </tr>\n",
       "    <tr>\n",
       "      <th>1</th>\n",
       "      <td>RH</td>\n",
       "      <td>4.190594</td>\n",
       "    </tr>\n",
       "    <tr>\n",
       "      <th>0</th>\n",
       "      <td>Temperature</td>\n",
       "      <td>3.869503</td>\n",
       "    </tr>\n",
       "    <tr>\n",
       "      <th>2</th>\n",
       "      <td>Ws</td>\n",
       "      <td>1.112507</td>\n",
       "    </tr>\n",
       "  </tbody>\n",
       "</table>\n",
       "</div>"
      ],
      "text/plain": [
       "       Feature  Importance\n",
       "7          ISI   26.882710\n",
       "4         FFMC   25.686164\n",
       "5          DMC   19.079596\n",
       "6           DC   12.181560\n",
       "3         Rain    6.997366\n",
       "1           RH    4.190594\n",
       "0  Temperature    3.869503\n",
       "2           Ws    1.112507"
      ]
     },
     "execution_count": 152,
     "metadata": {},
     "output_type": "execute_result"
    }
   ],
   "source": [
    "df_features"
   ]
  },
  {
   "cell_type": "code",
   "execution_count": 154,
   "id": "df10fb27",
   "metadata": {},
   "outputs": [
    {
     "data": {
      "text/plain": [
       "<AxesSubplot:xlabel='Importance', ylabel='Feature'>"
      ]
     },
     "execution_count": 154,
     "metadata": {},
     "output_type": "execute_result"
    },
    {
     "data": {
      "image/png": "[encoded data removed]",
      "text/plain": [
       "<Figure size 432x288 with 1 Axes>"
      ]
     },
     "metadata": {
      "needs_background": "light"
     },
     "output_type": "display_data"
    }
   ],
   "source": [
    "sns.barplot(data=df_features, x='Importance', y='Feature',ec = 'black')"
   ]
  },
  {
   "cell_type": "code",
   "execution_count": null,
   "id": "7b4a458e",
   "metadata": {},
   "outputs": [],
   "source": []
  }
 ],
 "metadata": {
  "kernelspec": {
   "display_name": "Python 3",
   "language": "python",
   "name": "python3"
  },
  "language_info": {
   "codemirror_mode": {
    "name": "ipython",
    "version": 3
   },
   "file_extension": ".py",
   "mimetype": "text/x-python",
   "name": "python",
   "nbconvert_exporter": "python",
   "pygments_lexer": "ipython3",
   "version": "3.8.8"
  }
 },
 "nbformat": 4,
 "nbformat_minor": 5
}
